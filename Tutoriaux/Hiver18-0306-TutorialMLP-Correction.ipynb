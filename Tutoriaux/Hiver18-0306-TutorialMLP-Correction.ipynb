{
 "cells": [
  {
   "cell_type": "markdown",
   "metadata": {
    "colab_type": "text",
    "id": "mipSoOVlavkb"
   },
   "source": [
    "<h1 align=\"center\">École d'Hiver 2018</h1> \n",
    "<br/>\n",
    "<h1 align=\"center\">Tutoriel : Données Catégorielles (MLP)</h1> \n"
   ]
  },
  {
   "cell_type": "code",
   "execution_count": 0,
   "metadata": {
    "colab": {
     "autoexec": {
      "startup": false,
      "wait_interval": 0
     }
    },
    "colab_type": "code",
    "collapsed": true,
    "id": "nZWv3wri2NoA"
   },
   "outputs": [],
   "source": [
    "%%bash\n",
    "# Install dependencies\n",
    "use_conda=`which conda`\n",
    "if [ $use_conda ] ; then\n",
    "  # Jupyter\n",
    "  conda install --quiet --yes numpy matplotlib pandas\n",
    "else\n",
    "  # Colab\n",
    "  pip3 --quiet install http://download.pytorch.org/whl/cu80/torch-0.3.0.post4-cp36-cp36m-linux_x86_64.whl torchvision numpy matplotlib pandas\n",
    "fi"
   ]
  },
  {
   "cell_type": "code",
   "execution_count": 1,
   "metadata": {
    "colab": {
     "autoexec": {
      "startup": false,
      "wait_interval": 0
     }
    },
    "colab_type": "code",
    "collapsed": true,
    "id": "Y04xsIHm2Jdn"
   },
   "outputs": [],
   "source": [
    "import torch"
   ]
  },
  {
   "cell_type": "markdown",
   "metadata": {
    "colab_type": "text",
    "id": "HORYKkABrbV6"
   },
   "source": [
    "  "
   ]
  },
  {
   "cell_type": "markdown",
   "metadata": {
    "colab_type": "text",
    "id": "nqvhR0ebavmE"
   },
   "source": [
    "Pour mener à bien un projet en deep learning, on a besoin de:\n",
    "<ul>\n",
    "<li>Une <b> tâche à résoudre</b> ainsi que des <b>données</b> pour la supporter </li>\n",
    "<li>Un <b>modèle</b> (réseau de neurones) à entraîner </li>\n",
    "<li>Une <b>fonction de coût</b> à optimiser </li>\n",
    "<li>Un <b>optimiseur</b> qui ajustera les paramètres (poids) du réseau de neurones</li>\n",
    "</ul>"
   ]
  },
  {
   "cell_type": "markdown",
   "metadata": {
    "colab_type": "text",
    "id": "Y8_pfpu2f6AO"
   },
   "source": [
    "## 1) Tâche - Prédiction de la survie suite à un naufrage"
   ]
  },
  {
   "cell_type": "markdown",
   "metadata": {
    "colab_type": "text",
    "id": "B5piZxYUhSzq"
   },
   "source": [
    "Notre objectif est de <b>prédire si un passager a survécu ou non à la suite du naufrage du Titanic</b>."
   ]
  },
  {
   "cell_type": "markdown",
   "metadata": {
    "colab_type": "text",
    "id": "y4GuYNDFavlU"
   },
   "source": [
    "### a) Le dataset Titanic"
   ]
  },
  {
   "cell_type": "markdown",
   "metadata": {
    "colab_type": "text",
    "id": "NiOJx2ytavlU"
   },
   "source": [
    "Le dataset Titanic peut être téléchargé à l'adresse suivante:  https://github.com/afansi/winterschool18/blob/master/titanic3.csv?raw=true.<br/>\n",
    "Nous utiliserons le paquet <a href=\"https://pandas.pydata.org/\"> <b> Pandas </b></a>   pour le charger en mémoire de notre ordinateur."
   ]
  },
  {
   "cell_type": "code",
   "execution_count": 2,
   "metadata": {
    "colab": {
     "autoexec": {
      "startup": false,
      "wait_interval": 0
     }
    },
    "colab_type": "code",
    "collapsed": true,
    "id": "bX_RSiffavlW"
   },
   "outputs": [],
   "source": [
    "import numpy as np\n",
    "import pandas as pd"
   ]
  },
  {
   "cell_type": "code",
   "execution_count": 3,
   "metadata": {
    "colab": {
     "autoexec": {
      "startup": false,
      "wait_interval": 0
     }
    },
    "colab_type": "code",
    "collapsed": true,
    "id": "cTBxMNU0avlb"
   },
   "outputs": [],
   "source": [
    "titanic_df = pd.read_csv(\n",
    "    'https://github.com/afansi/winterschool18/blob/master/titanic3.csv?raw=true',\n",
    "    sep='\\t', \n",
    "    index_col=None, \n",
    "    na_values=['NA']\n",
    ")"
   ]
  },
  {
   "cell_type": "code",
   "execution_count": 4,
   "metadata": {
    "colab": {
     "autoexec": {
      "startup": false,
      "wait_interval": 0
     }
    },
    "colab_type": "code",
    "id": "P3dd9D6favld"
   },
   "outputs": [
    {
     "data": {
      "text/html": [
       "<div>\n",
       "<style>\n",
       "    .dataframe thead tr:only-child th {\n",
       "        text-align: right;\n",
       "    }\n",
       "\n",
       "    .dataframe thead th {\n",
       "        text-align: left;\n",
       "    }\n",
       "\n",
       "    .dataframe tbody tr th {\n",
       "        vertical-align: top;\n",
       "    }\n",
       "</style>\n",
       "<table border=\"1\" class=\"dataframe\">\n",
       "  <thead>\n",
       "    <tr style=\"text-align: right;\">\n",
       "      <th></th>\n",
       "      <th>pclass</th>\n",
       "      <th>survived</th>\n",
       "      <th>name</th>\n",
       "      <th>sex</th>\n",
       "      <th>age</th>\n",
       "      <th>sibsp</th>\n",
       "      <th>parch</th>\n",
       "      <th>ticket</th>\n",
       "      <th>fare</th>\n",
       "      <th>cabin</th>\n",
       "      <th>embarked</th>\n",
       "      <th>boat</th>\n",
       "      <th>body</th>\n",
       "      <th>home.dest</th>\n",
       "    </tr>\n",
       "  </thead>\n",
       "  <tbody>\n",
       "    <tr>\n",
       "      <th>0</th>\n",
       "      <td>1</td>\n",
       "      <td>1</td>\n",
       "      <td>Allen, Miss. Elisabeth Walton</td>\n",
       "      <td>female</td>\n",
       "      <td>29.0000</td>\n",
       "      <td>0</td>\n",
       "      <td>0</td>\n",
       "      <td>24160</td>\n",
       "      <td>211.3375</td>\n",
       "      <td>B5</td>\n",
       "      <td>S</td>\n",
       "      <td>2</td>\n",
       "      <td>NaN</td>\n",
       "      <td>St Louis, MO</td>\n",
       "    </tr>\n",
       "    <tr>\n",
       "      <th>1</th>\n",
       "      <td>1</td>\n",
       "      <td>1</td>\n",
       "      <td>Allison, Master. Hudson Trevor</td>\n",
       "      <td>male</td>\n",
       "      <td>0.9167</td>\n",
       "      <td>1</td>\n",
       "      <td>2</td>\n",
       "      <td>113781</td>\n",
       "      <td>151.5500</td>\n",
       "      <td>C22 C26</td>\n",
       "      <td>S</td>\n",
       "      <td>11</td>\n",
       "      <td>NaN</td>\n",
       "      <td>Montreal, PQ / Chesterville, ON</td>\n",
       "    </tr>\n",
       "    <tr>\n",
       "      <th>2</th>\n",
       "      <td>1</td>\n",
       "      <td>0</td>\n",
       "      <td>Allison, Miss. Helen Loraine</td>\n",
       "      <td>female</td>\n",
       "      <td>2.0000</td>\n",
       "      <td>1</td>\n",
       "      <td>2</td>\n",
       "      <td>113781</td>\n",
       "      <td>151.5500</td>\n",
       "      <td>C22 C26</td>\n",
       "      <td>S</td>\n",
       "      <td>NaN</td>\n",
       "      <td>NaN</td>\n",
       "      <td>Montreal, PQ / Chesterville, ON</td>\n",
       "    </tr>\n",
       "    <tr>\n",
       "      <th>3</th>\n",
       "      <td>1</td>\n",
       "      <td>0</td>\n",
       "      <td>Allison, Mr. Hudson Joshua Creighton</td>\n",
       "      <td>male</td>\n",
       "      <td>30.0000</td>\n",
       "      <td>1</td>\n",
       "      <td>2</td>\n",
       "      <td>113781</td>\n",
       "      <td>151.5500</td>\n",
       "      <td>C22 C26</td>\n",
       "      <td>S</td>\n",
       "      <td>NaN</td>\n",
       "      <td>135.0</td>\n",
       "      <td>Montreal, PQ / Chesterville, ON</td>\n",
       "    </tr>\n",
       "    <tr>\n",
       "      <th>4</th>\n",
       "      <td>1</td>\n",
       "      <td>0</td>\n",
       "      <td>Allison, Mrs. Hudson J C (Bessie Waldo Daniels)</td>\n",
       "      <td>female</td>\n",
       "      <td>25.0000</td>\n",
       "      <td>1</td>\n",
       "      <td>2</td>\n",
       "      <td>113781</td>\n",
       "      <td>151.5500</td>\n",
       "      <td>C22 C26</td>\n",
       "      <td>S</td>\n",
       "      <td>NaN</td>\n",
       "      <td>NaN</td>\n",
       "      <td>Montreal, PQ / Chesterville, ON</td>\n",
       "    </tr>\n",
       "  </tbody>\n",
       "</table>\n",
       "</div>"
      ],
      "text/plain": [
       "   pclass  survived                                             name     sex  \\\n",
       "0       1         1                    Allen, Miss. Elisabeth Walton  female   \n",
       "1       1         1                   Allison, Master. Hudson Trevor    male   \n",
       "2       1         0                     Allison, Miss. Helen Loraine  female   \n",
       "3       1         0             Allison, Mr. Hudson Joshua Creighton    male   \n",
       "4       1         0  Allison, Mrs. Hudson J C (Bessie Waldo Daniels)  female   \n",
       "\n",
       "       age  sibsp  parch  ticket      fare    cabin embarked boat   body  \\\n",
       "0  29.0000      0      0   24160  211.3375       B5        S    2    NaN   \n",
       "1   0.9167      1      2  113781  151.5500  C22 C26        S   11    NaN   \n",
       "2   2.0000      1      2  113781  151.5500  C22 C26        S  NaN    NaN   \n",
       "3  30.0000      1      2  113781  151.5500  C22 C26        S  NaN  135.0   \n",
       "4  25.0000      1      2  113781  151.5500  C22 C26        S  NaN    NaN   \n",
       "\n",
       "                         home.dest  \n",
       "0                     St Louis, MO  \n",
       "1  Montreal, PQ / Chesterville, ON  \n",
       "2  Montreal, PQ / Chesterville, ON  \n",
       "3  Montreal, PQ / Chesterville, ON  \n",
       "4  Montreal, PQ / Chesterville, ON  "
      ]
     },
     "execution_count": 4,
     "metadata": {},
     "output_type": "execute_result"
    }
   ],
   "source": [
    "titanic_df.head()"
   ]
  },
  {
   "cell_type": "markdown",
   "metadata": {
    "colab_type": "text",
    "id": "yj88WmCmavlf"
   },
   "source": [
    "### La signification des différentes colonnes (features) est la suivante:\n",
    "\n",
    "<ol>\n",
    "\n",
    "  <li> <b>pclass</b>: Classe du Passager (1 = première; 2 = seconde; 3 = troisième) </li>\n",
    "  <li> <b>survived</b>: Survie (0 = non; 1 = oui) </li>\n",
    "  <li> <b>name</b>: Nom </li>\n",
    "  <li> <b>sex</b>: Sexe </li>\n",
    "  <li> <b>age</b>: Âge </li>\n",
    "  <li> <b>sibsp</b>: Nombre de frères, sœurs, ou conjoints à bord </li>\n",
    "  <li> <b>parch</b>: Nombre de parents ou enfants à bord </li>\n",
    "  <li> <b>ticket</b>: Numéro de ticket </li>\n",
    "  <li> <b>fare</b>: Tarif passager </li>\n",
    "  <li> <b>cabin</b>: Numéro de cabine </li>\n",
    "  <li> <b>embarked</b>: Port d'embarquement (C = Cherbourg; Q = Queenstown; S = Southampton) </li>\n",
    "  <li> <b>boat</b>: Canot de sauvetage (si le passager a survécu) </li>\n",
    "  <li> <b>body</b>: Numéro de corps (si le passager n'a pas survécu et que son corps a été retrouvé) </li>\n",
    "  <li> <b>home.dest</b>: la destination du passager </li>\n",
    " </ol>\n"
   ]
  },
  {
   "cell_type": "markdown",
   "metadata": {
    "colab_type": "text",
    "id": "peuLBXx1rbWL"
   },
   "source": [
    "### b) Comprendre son jeu de données : Prétraitement du dataset"
   ]
  },
  {
   "cell_type": "markdown",
   "metadata": {
    "colab_type": "text",
    "id": "XwrcS_LSyJE7"
   },
   "source": [
    "### Questions: \n",
    "\n",
    "<b> a) Y'a t'il des features sans aucune utilité pour la tâche à accomplir? Si oui, lesquelles et pourquoi ? <br/>\n",
    "<br/>\n",
    "<b> b) Un réseau de neurones ne sait manipuler que des données numériques. Cependant, certaines features importantes pour la tâche définie sont non-numériques. Lesquelles? Devez-vous exclure ces features du jeu de données? Si oui, pourquoi? Si non, comment les passeriez-vous à un réseau de neurones?</b><br/>"
   ]
  },
  {
   "cell_type": "markdown",
   "metadata": {
    "colab_type": "text",
    "id": "__vcZhPnavlg"
   },
   "source": [
    "\n",
    " \n",
    " Le dataset pré-processé peut être téléchargé à l'adresse suivante:  https://github.com/afansi/winterschool18/blob/master/titanic_prepocess.xls?raw=true."
   ]
  },
  {
   "cell_type": "code",
   "execution_count": 5,
   "metadata": {
    "colab": {
     "autoexec": {
      "startup": false,
      "wait_interval": 0
     }
    },
    "colab_type": "code",
    "collapsed": true,
    "id": "JJ0--SDpavlg"
   },
   "outputs": [],
   "source": [
    "titanic_preprocess_df = pd.read_csv(\n",
    "    'https://github.com/afansi/winterschool18/blob/master/titanic_prepocess.csv?raw=true', \n",
    "    sep=',', \n",
    "    index_col=None\n",
    ")"
   ]
  },
  {
   "cell_type": "code",
   "execution_count": 6,
   "metadata": {
    "colab": {
     "autoexec": {
      "startup": false,
      "wait_interval": 0
     }
    },
    "colab_type": "code",
    "id": "YqySSMZFavli"
   },
   "outputs": [
    {
     "data": {
      "text/html": [
       "<div>\n",
       "<style>\n",
       "    .dataframe thead tr:only-child th {\n",
       "        text-align: right;\n",
       "    }\n",
       "\n",
       "    .dataframe thead th {\n",
       "        text-align: left;\n",
       "    }\n",
       "\n",
       "    .dataframe tbody tr th {\n",
       "        vertical-align: top;\n",
       "    }\n",
       "</style>\n",
       "<table border=\"1\" class=\"dataframe\">\n",
       "  <thead>\n",
       "    <tr style=\"text-align: right;\">\n",
       "      <th></th>\n",
       "      <th>survived</th>\n",
       "      <th>pclass_1</th>\n",
       "      <th>pclass_2</th>\n",
       "      <th>pclass_3</th>\n",
       "      <th>sex_female</th>\n",
       "      <th>sex_male</th>\n",
       "      <th>age</th>\n",
       "      <th>sibsp</th>\n",
       "      <th>parch</th>\n",
       "      <th>fare</th>\n",
       "      <th>embarked_C</th>\n",
       "      <th>embarked_Q</th>\n",
       "      <th>embarked_S</th>\n",
       "    </tr>\n",
       "  </thead>\n",
       "  <tbody>\n",
       "    <tr>\n",
       "      <th>0</th>\n",
       "      <td>1</td>\n",
       "      <td>1</td>\n",
       "      <td>0</td>\n",
       "      <td>0</td>\n",
       "      <td>1</td>\n",
       "      <td>0</td>\n",
       "      <td>29.0000</td>\n",
       "      <td>0</td>\n",
       "      <td>0</td>\n",
       "      <td>211.3375</td>\n",
       "      <td>0</td>\n",
       "      <td>0</td>\n",
       "      <td>1</td>\n",
       "    </tr>\n",
       "    <tr>\n",
       "      <th>1</th>\n",
       "      <td>1</td>\n",
       "      <td>1</td>\n",
       "      <td>0</td>\n",
       "      <td>0</td>\n",
       "      <td>0</td>\n",
       "      <td>1</td>\n",
       "      <td>0.9167</td>\n",
       "      <td>1</td>\n",
       "      <td>2</td>\n",
       "      <td>151.5500</td>\n",
       "      <td>0</td>\n",
       "      <td>0</td>\n",
       "      <td>1</td>\n",
       "    </tr>\n",
       "    <tr>\n",
       "      <th>2</th>\n",
       "      <td>0</td>\n",
       "      <td>1</td>\n",
       "      <td>0</td>\n",
       "      <td>0</td>\n",
       "      <td>1</td>\n",
       "      <td>0</td>\n",
       "      <td>2.0000</td>\n",
       "      <td>1</td>\n",
       "      <td>2</td>\n",
       "      <td>151.5500</td>\n",
       "      <td>0</td>\n",
       "      <td>0</td>\n",
       "      <td>1</td>\n",
       "    </tr>\n",
       "    <tr>\n",
       "      <th>3</th>\n",
       "      <td>0</td>\n",
       "      <td>1</td>\n",
       "      <td>0</td>\n",
       "      <td>0</td>\n",
       "      <td>0</td>\n",
       "      <td>1</td>\n",
       "      <td>30.0000</td>\n",
       "      <td>1</td>\n",
       "      <td>2</td>\n",
       "      <td>151.5500</td>\n",
       "      <td>0</td>\n",
       "      <td>0</td>\n",
       "      <td>1</td>\n",
       "    </tr>\n",
       "    <tr>\n",
       "      <th>4</th>\n",
       "      <td>0</td>\n",
       "      <td>1</td>\n",
       "      <td>0</td>\n",
       "      <td>0</td>\n",
       "      <td>1</td>\n",
       "      <td>0</td>\n",
       "      <td>25.0000</td>\n",
       "      <td>1</td>\n",
       "      <td>2</td>\n",
       "      <td>151.5500</td>\n",
       "      <td>0</td>\n",
       "      <td>0</td>\n",
       "      <td>1</td>\n",
       "    </tr>\n",
       "  </tbody>\n",
       "</table>\n",
       "</div>"
      ],
      "text/plain": [
       "   survived  pclass_1  pclass_2  pclass_3  sex_female  sex_male      age  \\\n",
       "0         1         1         0         0           1         0  29.0000   \n",
       "1         1         1         0         0           0         1   0.9167   \n",
       "2         0         1         0         0           1         0   2.0000   \n",
       "3         0         1         0         0           0         1  30.0000   \n",
       "4         0         1         0         0           1         0  25.0000   \n",
       "\n",
       "   sibsp  parch      fare  embarked_C  embarked_Q  embarked_S  \n",
       "0      0      0  211.3375           0           0           1  \n",
       "1      1      2  151.5500           0           0           1  \n",
       "2      1      2  151.5500           0           0           1  \n",
       "3      1      2  151.5500           0           0           1  \n",
       "4      1      2  151.5500           0           0           1  "
      ]
     },
     "execution_count": 6,
     "metadata": {},
     "output_type": "execute_result"
    }
   ],
   "source": [
    "titanic_preprocess_df.head()"
   ]
  },
  {
   "cell_type": "markdown",
   "metadata": {
    "colab_type": "text",
    "id": "tEd92PBpavlm"
   },
   "source": [
    " "
   ]
  },
  {
   "cell_type": "markdown",
   "metadata": {
    "colab_type": "text",
    "id": "QJcs6PUTavlm"
   },
   "source": [
    "### c) Découpage en Train / Validation / Test"
   ]
  },
  {
   "cell_type": "markdown",
   "metadata": {
    "colab_type": "text",
    "id": "Bjbgvffmavlo"
   },
   "source": [
    "En général, le dataset est divisé en trois parties:\n",
    "\n",
    "<ol>\n",
    "<li> <b> Train</b> (en général, 60 % du dataset): utilisée pour entraîner le modèle de classification.</li>   \n",
    "<li> <b> Validation</b> (en général, 20 % du dataset): utilisée pour évaluer les performances du modèle en cours d'entraînement.</li>   \n",
    "<li> <b> Test</b> (en général, 20 % du dataset): utilisée pour évaluer les performances de généralisation du modèle entraîné. </li>\n",
    "</ol>"
   ]
  },
  {
   "cell_type": "code",
   "execution_count": 7,
   "metadata": {
    "colab": {
     "autoexec": {
      "startup": false,
      "wait_interval": 0
     }
    },
    "colab_type": "code",
    "collapsed": true,
    "id": "GBmL8VBOavlo"
   },
   "outputs": [],
   "source": [
    "np.random.seed(1234)\n",
    "train, validate, test = np.split(\n",
    "    titanic_preprocess_df.sample(frac=1, random_state=134), \n",
    "    [int(.6*len(titanic_preprocess_df)), \n",
    "     int(.8*len(titanic_preprocess_df))\n",
    "    ]\n",
    ")\n",
    "\n",
    "X_train = train.drop(['survived'], axis=1).values\n",
    "y_train = train['survived'].values\n",
    "\n",
    "X_val = validate.drop(['survived'], axis=1).values\n",
    "y_val = validate['survived'].values\n",
    "\n",
    "X_test = test.drop(['survived'], axis=1).values\n",
    "y_test = test['survived'].values"
   ]
  },
  {
   "cell_type": "markdown",
   "metadata": {
    "colab_type": "text",
    "id": "IOJNGRugrbWX"
   },
   "source": [
    "   "
   ]
  },
  {
   "cell_type": "markdown",
   "metadata": {
    "colab_type": "text",
    "id": "PG7-PF6brbWY"
   },
   "source": [
    "   "
   ]
  },
  {
   "cell_type": "markdown",
   "metadata": {
    "colab_type": "text",
    "id": "obEPHnlTavkc"
   },
   "source": [
    "## 2) Modèle: Multi-Layer Perceptrons (MLP)"
   ]
  },
  {
   "cell_type": "markdown",
   "metadata": {
    "colab_type": "text",
    "id": "qhN5GL6Gavks"
   },
   "source": [
    "Pour résoudre notre tâche, nous allons utiliser un MLP avec les caractéristiques suivantes:\n",
    " <ul>\n",
    " <li> <b> 4 </b> couches (<b> 3 </b> couches cachées et <b> 1 </b> couche de sortie) </li>\n",
    " <li> la dimension des données d'entrées est de <b> 12 . </b></li>\n",
    " <li> les dimensions des différentes couches sont <b> 20, 40, 20, 2. </b> </li>\n",
    " <li> utilisation de la fonction d'activation <b> RELU </b> pour les 3 couches cachées.</li>\n",
    " </ul>"
   ]
  },
  {
   "cell_type": "markdown",
   "metadata": {
    "colab_type": "text",
    "id": "qTlg5x9tavkd"
   },
   "source": [
    "### a) Illustration"
   ]
  },
  {
   "cell_type": "markdown",
   "metadata": {
    "colab_type": "text",
    "id": "XbvYDBnVrbWc"
   },
   "source": [
    "<img src=\"https://github.com/afansi/winterschool18/blob/master/figures_tuto.pptx.png?raw=true\", width=900,  height=500>"
   ]
  },
  {
   "cell_type": "markdown",
   "metadata": {
    "colab_type": "text",
    "id": "701t0e-ravkr"
   },
   "source": [
    "### b) Implémentation du modèle en PyTorch"
   ]
  },
  {
   "cell_type": "markdown",
   "metadata": {
    "colab_type": "text",
    "id": "ZKzgFV9Favkt"
   },
   "source": [
    "#### 1 - PyTorch en bref"
   ]
  },
  {
   "cell_type": "markdown",
   "metadata": {
    "colab_type": "text",
    "id": "Vrus_-F0avkt"
   },
   "source": [
    "PyTorch est un paquet Python qui fournit deux fonctionnalités de haut niveau:\n",
    "<ul>\n",
    "<li> Opérations sur des tenseurs (comme NumPy) avec support GPU </li>\n",
    "<li> Réseaux de neurones profonds construits sur un système de <b><a href=\"http://pytorch.org/docs/master/notes/autograd.html\"> différentiation automatique</a></b> appelé  <b> <a href=\"http://pytorch.org/docs/master/autograd.html#\">Autograd </a></b>.</li>\n",
    "</ul>\n",
    "<br/>\n",
    "Voici <a href=\"http://pytorch.org/docs/master/torch.html\"> La documentation principale sur PyTorch </a> et celle relative <a href=\"http://pytorch.org/docs/master/nn.html\"> aux réseaux de neurones </a>.\n"
   ]
  },
  {
   "cell_type": "markdown",
   "metadata": {
    "colab_type": "text",
    "id": "mgtCculMavku"
   },
   "source": [
    "#### 2 - Détails techniques"
   ]
  },
  {
   "cell_type": "markdown",
   "metadata": {
    "colab_type": "text",
    "id": "m4F5cyijavkv"
   },
   "source": [
    "<ul>\n",
    "<li> La classe <b><a href=\"http://pytorch.org/docs/master/nn.html#module\">torch.nn.Module</a></b>: \n",
    "\n",
    "    <br/> En PyTorch, tout réseau de neurones doit <b>hériter</b> de cette classe ou de ses descendantes (sous-classes).\n",
    "    <br/> \n",
    "</li>   \n",
    "<li> La méthode <b>forward</b>: \n",
    "    <br/> Toute classe définissant un réseau de neurones doit <b>implémenter</b> la méthode  <b>forward</b>. C'est cette méthode qui définit les opérations effectuées par le réseau de neurones et, le cas échéant, construit le graphe computationnel correspondant.\n",
    "    <br/> \n",
    "</li>  \n",
    "<li> la classe <b><a href=\"http://pytorch.org/docs/master/nn.html#torch.nn.Linear\">`torch.nn.Linear(in_features, out_features)`</a></b>: \n",
    "    <br/> Cette classe implémente <b>une couche de réseau dense</b> sans fonction d'activation à sa sortie. <br/> Elle prend par défaut deux paramètres: \n",
    "    <ul>\n",
    "    <li><b>in_features</b>: la dimension des données en entrée de la couche. </li>\n",
    "    <li><b>out_features</b>: la dimension des données en sortie de la couche. </li>    \n",
    "    </ul>\n",
    "    \n",
    "</li>\n",
    "<li> le module <b><a href=\"http://pytorch.org/docs/master/nn.html#torch-nn-functional\">torch.nn.functional</a></b>: \n",
    "<br/> Il définit un ensemble de fonctions qui peuvent être appliquées aux sorties des différentes composantes d'un réseau de neurones. On y retrouve par example:\n",
    "    <ul>\n",
    "    <li> des fonctions non-lineaires: <b><a href=\"http://pytorch.org/docs/master/nn.html#id36\">sigmoid</a></b>, <b><a href=\"http://pytorch.org/docs/master/nn.html#id35\">tanh</a></b>, <b><a href=\"http://pytorch.org/docs/master/nn.html#id22\">relu</a></b>, <a href=\"http://pytorch.org/docs/master/nn.html#non-linear-activation-functions\">etc...</a> </li> \n",
    "    <li> des fonctions de coûts: <b><a href=\"http://pytorch.org/docs/master/nn.html#mse-loss\">mse_loss</a></b>, <b><a href=\"http://pytorch.org/docs/master/nn.html#nll-loss\">nll</a></b>, <b><a href=\"http://pytorch.org/docs/master/nn.html#cross-entropy\">cross_entropy</a></b>, <a href=\"http://pytorch.org/docs/master/nn.html#id42\">etc ...</a> </li> \n",
    "    <li> des fonctions de régularisation: <b><a href=\"http://pytorch.org/docs/master/nn.html#id38\">droupout</a></b>, <a href=\"http://pytorch.org/docs/master/nn.html#dropout-functions\">etc ...</a>  </li> \n",
    "    <li> <a href=\"http://pytorch.org/docs/master/nn.html#torch-nn-functional\">et plein encore ...</a> </li> \n",
    "    </ul>\n",
    "    <br/> \n",
    "</li>\n",
    "<li> la classe <b><a href=\"http://pytorch.org/docs/master/autograd.html#variable\">torch.autograd.Variable</a></b>: \n",
    "    <br/> Pour faire simple, cette classe permet <b>d'encapsuler</b> les données à faire ingérer par un réseau de neurones. C'est à travers elle que tout le mécanisme de <b><a href=\"http://pytorch.org/docs/master/notes/autograd.html\">diférentiation automatique</a></b> s'effectue. \n",
    "</li>\n",
    "</ul>"
   ]
  },
  {
   "cell_type": "markdown",
   "metadata": {
    "colab_type": "text",
    "id": "DMn6-Jepavkw"
   },
   "source": [
    "#### 3 - Implémentation"
   ]
  },
  {
   "cell_type": "code",
   "execution_count": 8,
   "metadata": {
    "colab": {
     "autoexec": {
      "startup": false,
      "wait_interval": 0
     }
    },
    "colab_type": "code",
    "id": "8NyQGwC-avkw"
   },
   "outputs": [
    {
     "data": {
      "text/plain": [
       "<torch._C.Generator at 0x7f49dd3c9d70>"
      ]
     },
     "execution_count": 8,
     "metadata": {},
     "output_type": "execute_result"
    }
   ],
   "source": [
    "import torch\n",
    "import torch.nn as nn\n",
    "import torch.nn.functional as F\n",
    "torch.manual_seed(1234)"
   ]
  },
  {
   "cell_type": "markdown",
   "metadata": {
    "colab_type": "text",
    "id": "NnARqxyusfCl"
   },
   "source": [
    "#### Exercice: \n",
    "\n",
    "Compléter la classe NeuralNet afin de satisfaire aux contraintes du réseau de neurones telles que décrites."
   ]
  },
  {
   "cell_type": "code",
   "execution_count": 10,
   "metadata": {
    "colab": {
     "autoexec": {
      "startup": false,
      "wait_interval": 0
     }
    },
    "colab_type": "code",
    "collapsed": true,
    "id": "xR5eBfIbavk0"
   },
   "outputs": [],
   "source": [
    "class NeuralNet(nn.Module):\n",
    "    def __init__(self):\n",
    "        super(NeuralNet, self).__init__()        \n",
    "        self.fc1 = nn.Linear(12, 20)\n",
    "        self.fc2 = nn.Linear(20, 40)\n",
    "        self.fc3 = nn.Linear(40, 20)\n",
    "        self.fc4 = nn.Linear(20, 2)\n",
    "        \n",
    "        # À Completer avec la définition d'autres couches .....\n",
    "        \n",
    "\n",
    "    def forward(self, x):\n",
    "        x = F.relu(self.fc1(x))\n",
    "        x = F.relu(self.fc2(x))\n",
    "        x = F.relu(self.fc3(x))\n",
    "        x = self.fc4(x)\n",
    "        # À Completer avec l'appel à d'autres couches .....\n",
    "        return x"
   ]
  },
  {
   "cell_type": "markdown",
   "metadata": {
    "colab_type": "text",
    "id": "lPjULuGrrbWv"
   },
   "source": [
    "   "
   ]
  },
  {
   "cell_type": "markdown",
   "metadata": {
    "colab_type": "text",
    "id": "wv74TbIWavlr"
   },
   "source": [
    "### c) Datasets en PyTorch"
   ]
  },
  {
   "cell_type": "markdown",
   "metadata": {
    "colab_type": "text",
    "id": "9_LJtG-Xavlt"
   },
   "source": [
    "PyTorch offre plusieurs utilitaires pour faciliter le traitement des données, rendant ainsi le code plus lisible. <br/> Un de ces utilitaires est la classe <b><a href=\"http://pytorch.org/docs/master/data.html#\"> Dataset (torch.utils.data.Dataset)</a> </b> et ses sous-classes qui offrent une interface facile d'utilisation pour manipuler un dataset.<br/>\n",
    "Pour plus d'informations, veuillez vous reportez aux urls suivantes: \n",
    "<ul>\n",
    "<li>http://pytorch.org/docs/master/data.html</li>\n",
    "<li>http://pytorch.org/tutorials/beginner/data_loading_tutorial.html</li>\n",
    "</ul>\n",
    "<br/>\n",
    "Nous utiliserons la sous-classe <b><a href=\"http://pytorch.org/docs/master/data.html#\"> TensorDataset</a> </b> qui permet d'encapsuler ensemble les features et la target d'un jeu de données. Nous encapsulerons les données de Train, Validation, et Test définies dans la section précédente.\n"
   ]
  },
  {
   "cell_type": "code",
   "execution_count": 11,
   "metadata": {
    "colab": {
     "autoexec": {
      "startup": false,
      "wait_interval": 0
     }
    },
    "colab_type": "code",
    "collapsed": true,
    "id": "1JtT4tV7avlt"
   },
   "outputs": [],
   "source": [
    "import torch.utils.data\n",
    "\n",
    "train_dataset = torch.utils.data.TensorDataset(\n",
    "    torch.from_numpy(X_train).float(), \n",
    "    torch.from_numpy(y_train).long()\n",
    ")\n"
   ]
  },
  {
   "cell_type": "markdown",
   "metadata": {
    "colab_type": "text",
    "id": "1Ir1vAYisn-x"
   },
   "source": [
    "#### Exercice: \n",
    "\n",
    "Définissez en PyTorch les datasets pour les données de Validation et de Test."
   ]
  },
  {
   "cell_type": "code",
   "execution_count": 12,
   "metadata": {
    "colab": {
     "autoexec": {
      "startup": false,
      "wait_interval": 0
     }
    },
    "colab_type": "code",
    "collapsed": true,
    "id": "6lR0SLpJrbW3"
   },
   "outputs": [],
   "source": [
    "# À compléter\n",
    "\n",
    "val_dataset = torch.utils.data.TensorDataset(\n",
    "    torch.from_numpy(X_val).float(), \n",
    "    torch.from_numpy(y_val).long()\n",
    ")\n",
    "\n",
    "test_dataset = torch.utils.data.TensorDataset(\n",
    "    torch.from_numpy(X_test).float(), \n",
    "    torch.from_numpy(y_test).long()\n",
    ")"
   ]
  },
  {
   "cell_type": "markdown",
   "metadata": {
    "colab_type": "text",
    "id": "_ORLde1MrbW6"
   },
   "source": [
    "  "
   ]
  },
  {
   "cell_type": "markdown",
   "metadata": {
    "colab_type": "text",
    "id": "OvLnHRZ5avk2"
   },
   "source": [
    "### d) Exécution d'un réseau de neurones"
   ]
  },
  {
   "cell_type": "markdown",
   "metadata": {
    "colab_type": "text",
    "id": "uEXgJMDDavk3"
   },
   "source": [
    "Dans cette section, nous exécuterons notre réseau de neurones sur des données aloitoirement générées. \n",
    "\n",
    "<b>Important à savoir:</b>\n",
    "    En PyTorch, il existe deux modes d'exécution d'un réseau de neurones:\n",
    "    <ul>\n",
    "    <li> <b>train</b>: dans ce mode, tous les mécanismes d'apprentissage (construction du graphe computationnel, auto-différentiation) sont mis en place à chaque exécution du réseau. Il est utilisé lorsque le réseau est en cours d'entraînement.</li>\n",
    "    <li> <b>eval</b>: dans ce mode, aucun mécanisme d'apprentissage est mis en place. On dit aussi que le modèle est en mode <b>inférence</b>. Il est utilisé lorsque le réseau est en cours d'évaluation.</li>\n",
    "    </ul>\n",
    "<br/>    \n",
    "Nous utiliserons le mode <b>eval</b> dans cette section."
   ]
  },
  {
   "cell_type": "code",
   "execution_count": 13,
   "metadata": {
    "colab": {
     "autoexec": {
      "startup": false,
      "wait_interval": 0
     }
    },
    "colab_type": "code",
    "collapsed": true,
    "id": "EVx1EkgZavk3"
   },
   "outputs": [],
   "source": [
    "from torch.autograd import Variable"
   ]
  },
  {
   "cell_type": "code",
   "execution_count": 14,
   "metadata": {
    "colab": {
     "autoexec": {
      "startup": false,
      "wait_interval": 0
     }
    },
    "colab_type": "code",
    "collapsed": true,
    "id": "gzcABMezavk6"
   },
   "outputs": [],
   "source": [
    "# Instantiation du réseau\n",
    "neural_net = NeuralNet()"
   ]
  },
  {
   "cell_type": "code",
   "execution_count": 15,
   "metadata": {
    "colab": {
     "autoexec": {
      "startup": false,
      "wait_interval": 0
     }
    },
    "colab_type": "code",
    "collapsed": true,
    "id": "cQHZtxEbavk8"
   },
   "outputs": [],
   "source": [
    "# activation du mode eval\n",
    "neural_net = neural_net.eval()"
   ]
  },
  {
   "cell_type": "code",
   "execution_count": 16,
   "metadata": {
    "colab": {
     "autoexec": {
      "startup": false,
      "wait_interval": 0
     }
    },
    "colab_type": "code",
    "collapsed": true,
    "id": "JM22oj2wavl1"
   },
   "outputs": [],
   "source": [
    "# Sélection des 5 premières données du dataset de validation\n",
    "data, target = val_dataset[0:5]"
   ]
  },
  {
   "cell_type": "code",
   "execution_count": 17,
   "metadata": {
    "colab": {
     "autoexec": {
      "startup": false,
      "wait_interval": 0
     }
    },
    "colab_type": "code",
    "collapsed": true,
    "id": "xVaky0saavl5"
   },
   "outputs": [],
   "source": [
    "# Encapusaulation des données dans la classe Variable\n",
    "data = Variable(data)\n",
    "target = Variable(target)"
   ]
  },
  {
   "cell_type": "code",
   "execution_count": 18,
   "metadata": {
    "colab": {
     "autoexec": {
      "startup": false,
      "wait_interval": 0
     }
    },
    "colab_type": "code",
    "collapsed": true,
    "id": "7NR3Ggdoavl7"
   },
   "outputs": [],
   "source": [
    "# Execution du réseau de neurones\n",
    "output = neural_net(data)   \n",
    "# neural_net.forward(data)"
   ]
  },
  {
   "cell_type": "code",
   "execution_count": 19,
   "metadata": {
    "colab": {
     "autoexec": {
      "startup": false,
      "wait_interval": 0
     }
    },
    "colab_type": "code",
    "collapsed": true,
    "id": "cMRKVz_wavl9"
   },
   "outputs": [],
   "source": [
    "# Tranformation des resultat en probabilités en utilisant la fonction SOFTMAX\n",
    "output_proba = F.softmax(output, dim=1)"
   ]
  },
  {
   "cell_type": "code",
   "execution_count": 20,
   "metadata": {
    "colab": {
     "autoexec": {
      "startup": false,
      "wait_interval": 0
     }
    },
    "colab_type": "code",
    "id": "SsyrFZLxavlQ"
   },
   "outputs": [
    {
     "name": "stdout",
     "output_type": "stream",
     "text": [
      "Variable containing:\n",
      " 0.5176  0.4824\n",
      " 0.3129  0.6871\n",
      " 0.3483  0.6517\n",
      " 0.4888  0.5112\n",
      " 0.4927  0.5073\n",
      "[torch.FloatTensor of size 5x2]\n",
      "\n"
     ]
    }
   ],
   "source": [
    "# Affichage des probabilités\n",
    "print(output_proba)"
   ]
  },
  {
   "cell_type": "markdown",
   "metadata": {
    "colab_type": "text",
    "id": "fVep0BElavlS"
   },
   "source": [
    "Les lignes définissent la sortie du réseau, en terme de <b> probabilités sur deux classes</b>, <b>mort</b> (0 - 1ere colonne) ou <b>survie</b> (1 - 2nde colonne), pour chacune des 5 données en entrée."
   ]
  },
  {
   "cell_type": "code",
   "execution_count": 21,
   "metadata": {
    "colab": {
     "autoexec": {
      "startup": false,
      "wait_interval": 0
     }
    },
    "colab_type": "code",
    "id": "0bG7QIaQrbXU"
   },
   "outputs": [
    {
     "name": "stdout",
     "output_type": "stream",
     "text": [
      "Variable containing:\n",
      " 0\n",
      " 1\n",
      " 1\n",
      " 1\n",
      " 1\n",
      "[torch.LongTensor of size 5]\n",
      "\n"
     ]
    }
   ],
   "source": [
    "# Affichage des prédictions (classe ayant la plus grande probabilités)\n",
    "_, prediction = torch.max(output_proba, dim=1)\n",
    "print(prediction)"
   ]
  },
  {
   "cell_type": "code",
   "execution_count": 22,
   "metadata": {
    "colab": {
     "autoexec": {
      "startup": false,
      "wait_interval": 0
     }
    },
    "colab_type": "code",
    "id": "yDwvhQvnrbXY"
   },
   "outputs": [
    {
     "name": "stdout",
     "output_type": "stream",
     "text": [
      "Variable containing:\n",
      " 0\n",
      " 0\n",
      " 1\n",
      " 0\n",
      " 1\n",
      "[torch.LongTensor of size 5]\n",
      "\n"
     ]
    }
   ],
   "source": [
    "# Affichage de la vrai target\n",
    "print(target)"
   ]
  },
  {
   "cell_type": "markdown",
   "metadata": {
    "colab_type": "text",
    "id": "gGjtCBE9rbXa"
   },
   "source": [
    " "
   ]
  },
  {
   "cell_type": "markdown",
   "metadata": {
    "colab_type": "text",
    "id": "4qY14Y94rbXb"
   },
   "source": [
    "### Questions: \n",
    "\n",
    "<b> Que constatez vous ? </b> <br/>\n",
    "<b> Et pourquoi? </b>"
   ]
  },
  {
   "cell_type": "markdown",
   "metadata": {
    "colab_type": "text",
    "id": "37Sy1S6nrbXb"
   },
   "source": [
    " "
   ]
  },
  {
   "cell_type": "markdown",
   "metadata": {
    "colab_type": "text",
    "id": "0uySA2TCavmD"
   },
   "source": [
    "## 3) Fonction de coût et Optimiseur"
   ]
  },
  {
   "cell_type": "markdown",
   "metadata": {
    "colab_type": "text",
    "id": "EkoobCLMavmE"
   },
   "source": [
    "### a) Fonction de coût"
   ]
  },
  {
   "cell_type": "markdown",
   "metadata": {
    "colab_type": "text",
    "id": "qkX7uSXQavmF"
   },
   "source": [
    "La fonction de coût doit être définie en fonction de la tâche que nous souhaitons réaliser.\n",
    "\n",
    "PyTorch offre <a href=\"http://pytorch.org/docs/master/nn.html#id42\">une multitude de fonctions de coûts</a> prêtes à l'emploi.\n",
    "\n",
    "Pour des problèmes de classification, la fonction de coût usuelle est <b> l'entropie croisée (cross-entropy)</b> et c'est elle que nous allons utiliser dans ce tutoriel. En PyTorch, elle est définie par la fonction <b><a href=\"http://pytorch.org/docs/master/nn.html#cross-entropy\">`torch.nn.functional.cross_entropy`</a></b>. "
   ]
  },
  {
   "cell_type": "code",
   "execution_count": 23,
   "metadata": {
    "colab": {
     "autoexec": {
      "startup": false,
      "wait_interval": 0
     }
    },
    "colab_type": "code",
    "collapsed": true,
    "id": "FHnfYeS5avmF"
   },
   "outputs": [],
   "source": [
    "import torch.nn.functional as F\n",
    "\n",
    "\n",
    "def cost_function(prediction, target):\n",
    "    loss = F.cross_entropy(prediction, target)\n",
    "    return loss"
   ]
  },
  {
   "cell_type": "markdown",
   "metadata": {
    "colab_type": "text",
    "id": "IQV8hoPnrbXg"
   },
   "source": [
    "  "
   ]
  },
  {
   "cell_type": "markdown",
   "metadata": {
    "colab_type": "text",
    "id": "P5VcnkACrbXh"
   },
   "source": [
    "### b) Rétro-propagation du gradient"
   ]
  },
  {
   "cell_type": "markdown",
   "metadata": {
    "colab_type": "text",
    "id": "0hcZaIKtavmH"
   },
   "source": [
    "En Pytorch, grâce au mécanisme de differentiation automatique <a href=\"http://pytorch.org/docs/master/notes/autograd.html\">Autograd</a>, il est possible de calculer automatiquement le gradient de la fonction de coût et de le rétro-propager à travers le graphe computationnel.\n",
    "\n",
    "Pour ce faire, une fois la fonction de coût calculée et stockée dans une variable, il suffit d'appeler la méthode <b> backward() </b> de cette dernière.<br/>\n",
    "\n",
    "#### Snippet de rétro-propagation:\n",
    "\n",
    "loss = fonction_de_cout(...) <br/>\n",
    "loss.backward()<br/>"
   ]
  },
  {
   "cell_type": "markdown",
   "metadata": {
    "colab_type": "text",
    "id": "8YNo_ymYavmH"
   },
   "source": [
    "### c) Optimiseur"
   ]
  },
  {
   "cell_type": "markdown",
   "metadata": {
    "colab_type": "text",
    "id": "Y4AlX9TwavmH"
   },
   "source": [
    "PyTorch fournit un <a href=\"http://pytorch.org/docs/master/optim.html#algorithms\">ensemble de méthodes d'optimisation</a> couramment utilisées dans la communauté de Deep Learning. Parmi ces méthodes, on y retrouve notamment: \n",
    "<ul>\n",
    "<li><b>SGD</b> (Stochastic Gradient Descent)</li>\n",
    "<li><b>Adam</b> (Adaptive Moment Estimation): variante de la méthode de descente de gradient dans laquelle le taux d'apprentissage est ajusté pour chaque paramètre. Cet ajustement est basé sur le momentum (moyenne glissante des gradients) et la courbure (moyenne glissante de la dérivée seconde). Cet optimiseur a démontré de très bonnes performamces par rapport à SGD dans la litérature.</li>\n",
    "<li>...</li>\n",
    "</ul>\n"
   ]
  },
  {
   "cell_type": "markdown",
   "metadata": {
    "colab_type": "text",
    "id": "nqkahMGirbXk"
   },
   "source": [
    "\n",
    "Pour pouvoir utiliser un optimiseur en PyTorch, il faut l'instancier en lui passant les éléments suivants:\n",
    "<ul>\n",
    "<li><b>les paramètres du réseau de neurones</b>: ceux-ci s'obtiennent à l'aide de la methode <b>parameters()</b> sur le modèle instanciée.</li>\n",
    "<li><b>le learning rate (lr)</b>: c'est le taux d'apprentissage à utiliser pour la mise à jour des paramètres du réseau de neurones pendant le processus d'optimization.</li>\n",
    "<li>D'autres paramètres propres à l'optimiseur choisi...</li>\n",
    "</ul>\n"
   ]
  },
  {
   "cell_type": "markdown",
   "metadata": {
    "colab_type": "text",
    "id": "jt6_Qr6ravmI"
   },
   "source": [
    "PyTorch offre un interface simplifiée pour interagir avec tout optimiseur:\n",
    "<ul>\n",
    "<li><b>zero_grad()</b>: Permet d'effacer les gradients des paramètres du réseau de neurones à optimiser. Elle est appelée <b>au début d'une étape d'optimisation</b> afin de re-initialiser les infos sur les paramètres à optimiser. </li>\n",
    "<li><b>step()</b>: Permet d'effectuer une étape d'optimisation. Elle est appelée <b>après une étape de rétro-propagation du gradient</b>.</li>\n",
    "</ul>"
   ]
  },
  {
   "cell_type": "markdown",
   "metadata": {
    "colab_type": "text",
    "id": "fZ-lKExqavmI"
   },
   "source": [
    "Dans ce tutoriel, nous utiliserons <b>SGD</b> avec une <b>lr</b> de 0.001."
   ]
  },
  {
   "cell_type": "code",
   "execution_count": 41,
   "metadata": {
    "colab": {
     "autoexec": {
      "startup": false,
      "wait_interval": 0
     }
    },
    "colab_type": "code",
    "collapsed": true,
    "id": "WDMOziJTavmI"
   },
   "outputs": [],
   "source": [
    "import torch.optim as optim\n",
    "\n",
    "\n",
    "#optimizer = optim.SGD(neural_net.parameters(), lr=0.001) \n",
    "optimizer = optim.Adam(neural_net.parameters(), lr=0.001) "
   ]
  },
  {
   "cell_type": "markdown",
   "metadata": {
    "colab_type": "text",
    "id": "YqWQEO2HrbXp"
   },
   "source": [
    "## 4) Entraînement"
   ]
  },
  {
   "cell_type": "markdown",
   "metadata": {
    "colab_type": "text",
    "id": "YD1paaYCavmJ"
   },
   "source": [
    "### a) Epoch, Itération, Mini-batch"
   ]
  },
  {
   "cell_type": "markdown",
   "metadata": {
    "colab_type": "text",
    "id": "P0ksgXqwavmK"
   },
   "source": [
    "#### Définitions: \n",
    "<ol>\n",
    "<li>\n",
    "<b>Epoch</b> : une passe complète sur tout le dataset d'entraînement.\n",
    "</li>\n",
    "\n",
    "<li>\n",
    "<b>Itération</b> : une mise à jour des paramètres du modèle (réseau de neurones). De nombreuses itérations peuvent se produire avant la fin d'un epoch.\n",
    "</li>\n",
    "\n",
    "<li>\n",
    "<b>Mini-batch</b> : Ensemble de données utilisées pour effectuer une mise à jour des paramètres du modèle. Autrement dit, à chaque itération, un mini-batch est utilisé. \n",
    "</li>\n",
    "\n",
    "</ol>\n",
    "\n"
   ]
  },
  {
   "cell_type": "markdown",
   "metadata": {
    "colab_type": "text",
    "id": "LLXjNiDTavmK"
   },
   "source": [
    "#### Mini-batch en PyTorch: \n",
    "\n",
    "<ul>\n",
    "<li>\n",
    "PyTorch offre un utilitaire appelé <b><a href=\"http://pytorch.org/docs/master/data.html\"> torch.utils.data.DataLoader </a></b> permettant de charger un dataset quelconque et de le découper automatiquement en mini-batchs.\n",
    "</li>\n",
    "</ul>"
   ]
  },
  {
   "cell_type": "markdown",
   "metadata": {
    "colab_type": "text",
    "id": "K6gjERhgavmL"
   },
   "source": [
    "#### Bon à savoir: \n",
    "\n",
    "<ul>\n",
    "<li>\n",
    "Lors de l'entraînement, il est important que les données présentées au réseau apparaissent dans <b> un ordre différent d'un epoch à l'autre</b>.\n",
    "</li>\n",
    "</ul>"
   ]
  },
  {
   "cell_type": "markdown",
   "metadata": {
    "colab_type": "text",
    "id": "nsQtU9ylavmL"
   },
   "source": [
    "#### Définissons à présent les dataloaders pour nos trois datasets (Train, Validation, et Test)"
   ]
  },
  {
   "cell_type": "code",
   "execution_count": 25,
   "metadata": {
    "colab": {
     "autoexec": {
      "startup": false,
      "wait_interval": 0
     }
    },
    "colab_type": "code",
    "collapsed": true,
    "id": "RGoQZSdqavmM"
   },
   "outputs": [],
   "source": [
    "train_batch_size = 32  # nombre de données dans un batch d'entraînement.\n",
    "eval_batch_size = 32   # nombre de données dans un batch d'évaluation.\n",
    "\n",
    "\n",
    "train_loader = torch.utils.data.DataLoader(train_dataset, batch_size=train_batch_size, shuffle=True)\n",
    "\n",
    "val_loader   = torch.utils.data.DataLoader(val_dataset, batch_size=eval_batch_size, shuffle=False)\n",
    "\n",
    "test_loader  = torch.utils.data.DataLoader(test_dataset, batch_size=eval_batch_size, shuffle=False)"
   ]
  },
  {
   "cell_type": "markdown",
   "metadata": {
    "colab_type": "text",
    "id": "RxxmoJVhrbXv"
   },
   "source": [
    "  "
   ]
  },
  {
   "cell_type": "markdown",
   "metadata": {
    "colab_type": "text",
    "id": "Ia3ai-GvavmP"
   },
   "source": [
    "### b) Boucle principale"
   ]
  },
  {
   "cell_type": "markdown",
   "metadata": {
    "colab_type": "text",
    "id": "v9wNZrTnavmQ"
   },
   "source": [
    "Nous définissons ici notre procédure d'entraînement pour un epoch."
   ]
  },
  {
   "cell_type": "markdown",
   "metadata": {
    "colab_type": "text",
    "id": "U71QLKbfsywm"
   },
   "source": [
    "#### Exercice: \n",
    "\n",
    "Completez la procédure \"train\"."
   ]
  },
  {
   "cell_type": "code",
   "execution_count": 26,
   "metadata": {
    "colab": {
     "autoexec": {
      "startup": false,
      "wait_interval": 0
     }
    },
    "colab_type": "code",
    "collapsed": true,
    "id": "ZyK9xCsZavmR"
   },
   "outputs": [],
   "source": [
    "def train(epoch, model, train_loader, optimizer):\n",
    "    \n",
    "    # mettre le modèle en mode train\n",
    "    model = model.train()\n",
    "    \n",
    "    # Accumulateurs d'informations\n",
    "    total_loss = 0\n",
    "    correct = 0\n",
    "    \n",
    "    # itérer sur les mini-batchs\n",
    "    for batch_idx, (data, target) in enumerate(train_loader):\n",
    "        \n",
    "        # encapsuler les données dans la classe Variable\n",
    "        data, target = Variable(data), Variable(target)\n",
    "        \n",
    "        # mettre à zéro les gradients des paramètres du réseau de neurones\n",
    "        optimizer.zero_grad()\n",
    "        \n",
    "        # exécuter le réseau de neurones sur les données du mini-batch\n",
    "        prediction = model(data)\n",
    "        \n",
    "        # calculer la fonction de coût par rapport à la target\n",
    "        loss = cost_function(prediction, target)\n",
    "        \n",
    "        # faire la retro-propagation du gradient\n",
    "        loss.backward()\n",
    "        \n",
    "        # effectuer un étape d'optimisation\n",
    "        optimizer.step()\n",
    "        \n",
    "        # effectuer la somme des coûts\n",
    "        total_loss += loss.data[0]*len(data)\n",
    "        \n",
    "        # calculer le nombre de bonnes prédictions \n",
    "        # (classe correspondante à la valeur maximale en sortie)        \n",
    "        pred_classes = prediction.data.max(1, keepdim=True)[1]\n",
    "        correct += pred_classes.eq(target.data.view_as(pred_classes)).sum()\n",
    "        \n",
    "    # calculer le coût moyen par epoch\n",
    "    mean_loss = total_loss/len(train_loader.dataset)\n",
    "    \n",
    "    # calculer l'acurracy\n",
    "    acc = correct / len(train_loader.dataset)\n",
    "        \n",
    "    print('Train Epoch: {}   Avg_Loss: {:.5f}   Acc: {}/{} ({:.3f}%)'.format(\n",
    "        epoch, mean_loss, correct, len(train_loader.dataset),\n",
    "        100. * acc))   \n",
    "    \n",
    "    # retourner le coût moyen obtenu\n",
    "    return mean_loss, acc"
   ]
  },
  {
   "cell_type": "markdown",
   "metadata": {
    "colab_type": "text",
    "id": "PxG666rmavmU"
   },
   "source": [
    "### c) Procédure d'évaluation"
   ]
  },
  {
   "cell_type": "markdown",
   "metadata": {
    "colab_type": "text",
    "id": "vGexbWaHavmU"
   },
   "source": [
    "Nous définissons ici notre procédure d'évaluation du modèle."
   ]
  },
  {
   "cell_type": "markdown",
   "metadata": {
    "colab_type": "text",
    "id": "m-u6BPMKs6no"
   },
   "source": [
    "#### Exercice: \n",
    "\n",
    "Completez la procédure \"eval\"."
   ]
  },
  {
   "cell_type": "code",
   "execution_count": 27,
   "metadata": {
    "colab": {
     "autoexec": {
      "startup": false,
      "wait_interval": 0
     }
    },
    "colab_type": "code",
    "collapsed": true,
    "id": "8gQj9W5LavmU"
   },
   "outputs": [],
   "source": [
    "def eval(model, eval_loader):\n",
    "    \n",
    "    # mettre le modèle en mode eval\n",
    "    model = model.eval()\n",
    "    \n",
    "    # Accumulateurs d'informations\n",
    "    total_loss = 0\n",
    "    correct = 0\n",
    "    \n",
    "    # itérer sur les mini-batchs\n",
    "    for batch_idx, (data, target) in enumerate(eval_loader):\n",
    "        \n",
    "        # encapsuler les données dans la classe Variable\n",
    "        data, target = Variable(data), Variable(target)\n",
    "        \n",
    "         # exécuter le réseau de neurones sur les données du mini-batch\n",
    "        prediction = model(data)\n",
    "        \n",
    "        # calculer la fonction de coût par rapport à la target\n",
    "        loss = cost_function(prediction, target)\n",
    "        \n",
    "        # effectuer la somme des coûts\n",
    "        total_loss += loss.data[0]*len(data)\n",
    "        \n",
    "        # calculer le nombre de bonnes prédictions \n",
    "        # (classe correspondante à la valeur maximale en sortie)\n",
    "        pred_classes = prediction.data.max(1, keepdim=True)[1]\n",
    "        correct += pred_classes.eq(target.data.view_as(pred_classes)).sum()\n",
    "    \n",
    "    # calculer le coût moyen\n",
    "    mean_loss = total_loss/len(eval_loader.dataset)\n",
    "    \n",
    "    # calculer l'acurracy\n",
    "    acc = correct / len(eval_loader.dataset)\n",
    "        \n",
    "    print('Eval:  Avg_Loss: {:.5f}   Acc: {}/{} ({:.3f}%)'.format(\n",
    "        mean_loss, correct, len(eval_loader.dataset),\n",
    "        100. * acc)) \n",
    "    \n",
    "    # retourner le coût moyen obtenu\n",
    "    return mean_loss, acc"
   ]
  },
  {
   "cell_type": "markdown",
   "metadata": {
    "colab_type": "text",
    "id": "fMUyZNxdavmW"
   },
   "source": [
    "### d) Checkpointing"
   ]
  },
  {
   "cell_type": "markdown",
   "metadata": {
    "colab_type": "text",
    "id": "lQLklQXAavmW"
   },
   "source": [
    "Pour des phases d'entraînement qui requièrent beaucoup de temps, il est recommandé de sauvegarder les paramètres (poids) du réseau de neurones au fil de l'apprentissage. C'est ce que l'on appelle communément le <b> checkpointing</b>.\n",
    "\n",
    "PyTorch offre <a href=\"http://pytorch.org/docs/master/notes/serialization.html\">un mécanisme simple</a> pour effectuer cette opération. \n",
    "\n",
    "\n",
    "\n"
   ]
  },
  {
   "cell_type": "markdown",
   "metadata": {
    "colab_type": "text",
    "id": "Ld-Y2gF-avmX"
   },
   "source": [
    "Nous implémentons ici deux méthodes:\n",
    "<ul>\n",
    "<li> la première pour <b> sauvegarder </b> un réseau de neurones </li>\n",
    "<li> la seconde pour <b> charger </b> une sauvegarde de réseau de neurones </li>\n",
    "</ul>"
   ]
  },
  {
   "cell_type": "code",
   "execution_count": 28,
   "metadata": {
    "colab": {
     "autoexec": {
      "startup": false,
      "wait_interval": 0
     }
    },
    "colab_type": "code",
    "collapsed": true,
    "id": "dMmNpma2avmX"
   },
   "outputs": [],
   "source": [
    "def save_model(epoch, model, path='./'):\n",
    "    \n",
    "    # creation du nom de fichier indexé par la valeur de l'epoch\n",
    "    filename = path + 'neural_network_{}.pt'.format(epoch)\n",
    "    \n",
    "    # sauvegarde des paramètres du modèle.\n",
    "    torch.save(model.state_dict(), filename)\n",
    "    \n",
    "    \n",
    "    return model\n",
    "    "
   ]
  },
  {
   "cell_type": "code",
   "execution_count": 29,
   "metadata": {
    "colab": {
     "autoexec": {
      "startup": false,
      "wait_interval": 0
     }
    },
    "colab_type": "code",
    "collapsed": true,
    "id": "2ZptgqQRavmZ"
   },
   "outputs": [],
   "source": [
    "def load_model(epoch, model, path='./'):\n",
    "    \n",
    "    # creation du nom de fichier indexé par la valeur de l'epoch\n",
    "    filename = path + 'neural_network_{}.pt'.format(epoch)\n",
    "    \n",
    "    # chargement des paramètres du modèle sauvegardé.\n",
    "    model.load_state_dict(torch.load(filename))\n",
    "    \n",
    "    \n",
    "    return model"
   ]
  },
  {
   "cell_type": "markdown",
   "metadata": {
    "colab_type": "text",
    "id": "ve8sOocWavma"
   },
   "source": [
    "#### Important à savoir:  \n",
    "\n",
    "Il est également possible de sauvegarder <b>l'état de l'optimiseur</b> en PyTorch. Ceci est très important dans les situations où nous souhaitons reprendre l'entraînement du réseau de neurones à partir d'une sauvegarde donnée. Pour plus d'informations, veuillez consulter l'url suivante: https://discuss.pytorch.org/t/saving-and-loading-a-model-in-pytorch/2610/3"
   ]
  },
  {
   "cell_type": "markdown",
   "metadata": {
    "colab_type": "text",
    "id": "8lcAP8-1avma"
   },
   "source": [
    "### e) Entraînement"
   ]
  },
  {
   "cell_type": "markdown",
   "metadata": {
    "colab_type": "text",
    "id": "_D1q9--itCUy"
   },
   "source": [
    "#### Exercice: \n",
    "\n",
    "Completez les zones en pointillés (...)."
   ]
  },
  {
   "cell_type": "code",
   "execution_count": 42,
   "metadata": {
    "colab": {
     "autoexec": {
      "startup": false,
      "wait_interval": 0
     }
    },
    "colab_type": "code",
    "id": "keMpyePsavmb"
   },
   "outputs": [
    {
     "name": "stdout",
     "output_type": "stream",
     "text": [
      "Train Epoch: 1   Avg_Loss: 0.62369   Acc: 419/625 (67.040%)\n",
      "Eval:  Avg_Loss: 0.62345   Acc: 139/209 (66.507%)\n",
      "Train Epoch: 2   Avg_Loss: 0.60086   Acc: 428/625 (68.480%)\n",
      "Eval:  Avg_Loss: 0.59839   Acc: 143/209 (68.421%)\n",
      "Train Epoch: 3   Avg_Loss: 0.59174   Acc: 441/625 (70.560%)\n",
      "Eval:  Avg_Loss: 0.60398   Acc: 146/209 (69.856%)\n",
      "Train Epoch: 4   Avg_Loss: 0.58378   Acc: 445/625 (71.200%)\n",
      "Eval:  Avg_Loss: 0.58215   Acc: 149/209 (71.292%)\n",
      "Train Epoch: 5   Avg_Loss: 0.57783   Acc: 445/625 (71.200%)\n",
      "Eval:  Avg_Loss: 0.58467   Acc: 147/209 (70.335%)\n",
      "Train Epoch: 6   Avg_Loss: 0.57009   Acc: 447/625 (71.520%)\n",
      "Eval:  Avg_Loss: 0.56226   Acc: 155/209 (74.163%)\n",
      "Train Epoch: 7   Avg_Loss: 0.55970   Acc: 452/625 (72.320%)\n",
      "Eval:  Avg_Loss: 0.54078   Acc: 158/209 (75.598%)\n",
      "Train Epoch: 8   Avg_Loss: 0.54482   Acc: 468/625 (74.880%)\n",
      "Eval:  Avg_Loss: 0.52028   Acc: 158/209 (75.598%)\n",
      "Train Epoch: 9   Avg_Loss: 0.52090   Acc: 468/625 (74.880%)\n",
      "Eval:  Avg_Loss: 0.50772   Acc: 158/209 (75.598%)\n",
      "Train Epoch: 10   Avg_Loss: 0.50466   Acc: 492/625 (78.720%)\n",
      "Eval:  Avg_Loss: 0.48803   Acc: 163/209 (77.990%)\n",
      "Train Epoch: 11   Avg_Loss: 0.50499   Acc: 479/625 (76.640%)\n",
      "Eval:  Avg_Loss: 0.50211   Acc: 157/209 (75.120%)\n",
      "Train Epoch: 12   Avg_Loss: 0.50975   Acc: 475/625 (76.000%)\n",
      "Eval:  Avg_Loss: 0.47109   Acc: 162/209 (77.512%)\n",
      "Train Epoch: 13   Avg_Loss: 0.48361   Acc: 484/625 (77.440%)\n",
      "Eval:  Avg_Loss: 0.60019   Acc: 143/209 (68.421%)\n",
      "Train Epoch: 14   Avg_Loss: 0.48045   Acc: 494/625 (79.040%)\n",
      "Eval:  Avg_Loss: 0.51870   Acc: 154/209 (73.684%)\n",
      "Train Epoch: 15   Avg_Loss: 0.47493   Acc: 499/625 (79.840%)\n",
      "Eval:  Avg_Loss: 0.44714   Acc: 168/209 (80.383%)\n",
      "Train Epoch: 16   Avg_Loss: 0.48046   Acc: 489/625 (78.240%)\n",
      "Eval:  Avg_Loss: 0.46339   Acc: 165/209 (78.947%)\n",
      "Train Epoch: 17   Avg_Loss: 0.46184   Acc: 502/625 (80.320%)\n",
      "Eval:  Avg_Loss: 0.44078   Acc: 170/209 (81.340%)\n",
      "Train Epoch: 18   Avg_Loss: 0.46452   Acc: 502/625 (80.320%)\n",
      "Eval:  Avg_Loss: 0.43666   Acc: 164/209 (78.469%)\n",
      "Train Epoch: 19   Avg_Loss: 0.46243   Acc: 492/625 (78.720%)\n",
      "Eval:  Avg_Loss: 0.44320   Acc: 164/209 (78.469%)\n",
      "Train Epoch: 20   Avg_Loss: 0.45793   Acc: 499/625 (79.840%)\n",
      "Eval:  Avg_Loss: 0.43302   Acc: 168/209 (80.383%)\n",
      "Train Epoch: 21   Avg_Loss: 0.45233   Acc: 508/625 (81.280%)\n",
      "Eval:  Avg_Loss: 0.43160   Acc: 167/209 (79.904%)\n",
      "Train Epoch: 22   Avg_Loss: 0.45083   Acc: 509/625 (81.440%)\n",
      "Eval:  Avg_Loss: 0.44575   Acc: 166/209 (79.426%)\n",
      "Train Epoch: 23   Avg_Loss: 0.44877   Acc: 501/625 (80.160%)\n",
      "Eval:  Avg_Loss: 0.42308   Acc: 169/209 (80.861%)\n",
      "Train Epoch: 24   Avg_Loss: 0.44741   Acc: 504/625 (80.640%)\n",
      "Eval:  Avg_Loss: 0.42260   Acc: 169/209 (80.861%)\n",
      "Train Epoch: 25   Avg_Loss: 0.44481   Acc: 509/625 (81.440%)\n",
      "Eval:  Avg_Loss: 0.42181   Acc: 169/209 (80.861%)\n",
      "Train Epoch: 26   Avg_Loss: 0.43988   Acc: 509/625 (81.440%)\n",
      "Eval:  Avg_Loss: 0.42430   Acc: 166/209 (79.426%)\n",
      "Train Epoch: 27   Avg_Loss: 0.45801   Acc: 505/625 (80.800%)\n",
      "Eval:  Avg_Loss: 0.42702   Acc: 167/209 (79.904%)\n",
      "Train Epoch: 28   Avg_Loss: 0.44823   Acc: 510/625 (81.600%)\n",
      "Eval:  Avg_Loss: 0.42438   Acc: 166/209 (79.426%)\n",
      "Train Epoch: 29   Avg_Loss: 0.44478   Acc: 506/625 (80.960%)\n",
      "Eval:  Avg_Loss: 0.45923   Acc: 166/209 (79.426%)\n",
      "Train Epoch: 30   Avg_Loss: 0.43668   Acc: 515/625 (82.400%)\n",
      "Eval:  Avg_Loss: 0.42204   Acc: 167/209 (79.904%)\n",
      "Train Epoch: 31   Avg_Loss: 0.43321   Acc: 511/625 (81.760%)\n",
      "Eval:  Avg_Loss: 0.41820   Acc: 168/209 (80.383%)\n",
      "Train Epoch: 32   Avg_Loss: 0.43710   Acc: 509/625 (81.440%)\n",
      "Eval:  Avg_Loss: 0.45503   Acc: 166/209 (79.426%)\n",
      "Train Epoch: 33   Avg_Loss: 0.43903   Acc: 508/625 (81.280%)\n",
      "Eval:  Avg_Loss: 0.46746   Acc: 164/209 (78.469%)\n",
      "Train Epoch: 34   Avg_Loss: 0.45023   Acc: 505/625 (80.800%)\n",
      "Eval:  Avg_Loss: 0.42027   Acc: 166/209 (79.426%)\n",
      "Train Epoch: 35   Avg_Loss: 0.42967   Acc: 511/625 (81.760%)\n",
      "Eval:  Avg_Loss: 0.44546   Acc: 165/209 (78.947%)\n",
      "Train Epoch: 36   Avg_Loss: 0.43232   Acc: 510/625 (81.600%)\n",
      "Eval:  Avg_Loss: 0.42343   Acc: 166/209 (79.426%)\n",
      "Train Epoch: 37   Avg_Loss: 0.43378   Acc: 512/625 (81.920%)\n",
      "Eval:  Avg_Loss: 0.41597   Acc: 168/209 (80.383%)\n",
      "Train Epoch: 38   Avg_Loss: 0.43018   Acc: 511/625 (81.760%)\n",
      "Eval:  Avg_Loss: 0.41781   Acc: 165/209 (78.947%)\n",
      "Train Epoch: 39   Avg_Loss: 0.43457   Acc: 508/625 (81.280%)\n",
      "Eval:  Avg_Loss: 0.41802   Acc: 167/209 (79.904%)\n",
      "Train Epoch: 40   Avg_Loss: 0.44747   Acc: 504/625 (80.640%)\n",
      "Eval:  Avg_Loss: 0.44556   Acc: 167/209 (79.904%)\n",
      "Train Epoch: 41   Avg_Loss: 0.43011   Acc: 513/625 (82.080%)\n",
      "Eval:  Avg_Loss: 0.42536   Acc: 166/209 (79.426%)\n",
      "Train Epoch: 42   Avg_Loss: 0.43178   Acc: 510/625 (81.600%)\n",
      "Eval:  Avg_Loss: 0.41543   Acc: 169/209 (80.861%)\n",
      "Train Epoch: 43   Avg_Loss: 0.45347   Acc: 508/625 (81.280%)\n",
      "Eval:  Avg_Loss: 0.41422   Acc: 167/209 (79.904%)\n",
      "Train Epoch: 44   Avg_Loss: 0.44341   Acc: 510/625 (81.600%)\n",
      "Eval:  Avg_Loss: 0.42304   Acc: 165/209 (78.947%)\n",
      "Train Epoch: 45   Avg_Loss: 0.43837   Acc: 513/625 (82.080%)\n",
      "Eval:  Avg_Loss: 0.41645   Acc: 168/209 (80.383%)\n",
      "Train Epoch: 46   Avg_Loss: 0.42244   Acc: 513/625 (82.080%)\n",
      "Eval:  Avg_Loss: 0.42947   Acc: 167/209 (79.904%)\n",
      "Train Epoch: 47   Avg_Loss: 0.43294   Acc: 515/625 (82.400%)\n",
      "Eval:  Avg_Loss: 0.47934   Acc: 164/209 (78.469%)\n",
      "Train Epoch: 48   Avg_Loss: 0.42504   Acc: 513/625 (82.080%)\n",
      "Eval:  Avg_Loss: 0.42529   Acc: 167/209 (79.904%)\n",
      "Train Epoch: 49   Avg_Loss: 0.42153   Acc: 514/625 (82.240%)\n",
      "Eval:  Avg_Loss: 0.48242   Acc: 162/209 (77.512%)\n",
      "Train Epoch: 50   Avg_Loss: 0.41964   Acc: 517/625 (82.720%)\n",
      "Eval:  Avg_Loss: 0.41324   Acc: 169/209 (80.861%)\n",
      "Train Epoch: 51   Avg_Loss: 0.41910   Acc: 519/625 (83.040%)\n",
      "Eval:  Avg_Loss: 0.42723   Acc: 166/209 (79.426%)\n",
      "Train Epoch: 52   Avg_Loss: 0.43341   Acc: 513/625 (82.080%)\n",
      "Eval:  Avg_Loss: 0.41074   Acc: 170/209 (81.340%)\n",
      "Train Epoch: 53   Avg_Loss: 0.42109   Acc: 510/625 (81.600%)\n",
      "Eval:  Avg_Loss: 0.42458   Acc: 167/209 (79.904%)\n",
      "Train Epoch: 54   Avg_Loss: 0.42520   Acc: 519/625 (83.040%)\n",
      "Eval:  Avg_Loss: 0.41985   Acc: 167/209 (79.904%)\n",
      "Train Epoch: 55   Avg_Loss: 0.42125   Acc: 511/625 (81.760%)\n",
      "Eval:  Avg_Loss: 0.41912   Acc: 167/209 (79.904%)\n",
      "Train Epoch: 56   Avg_Loss: 0.42033   Acc: 515/625 (82.400%)\n",
      "Eval:  Avg_Loss: 0.43093   Acc: 169/209 (80.861%)\n",
      "Train Epoch: 57   Avg_Loss: 0.42648   Acc: 509/625 (81.440%)\n",
      "Eval:  Avg_Loss: 0.41875   Acc: 167/209 (79.904%)\n",
      "Train Epoch: 58   Avg_Loss: 0.41760   Acc: 513/625 (82.080%)\n",
      "Eval:  Avg_Loss: 0.41658   Acc: 167/209 (79.904%)\n",
      "Train Epoch: 59   Avg_Loss: 0.42533   Acc: 511/625 (81.760%)\n",
      "Eval:  Avg_Loss: 0.45356   Acc: 166/209 (79.426%)\n",
      "Train Epoch: 60   Avg_Loss: 0.44156   Acc: 517/625 (82.720%)\n",
      "Eval:  Avg_Loss: 0.43691   Acc: 167/209 (79.904%)\n",
      "Train Epoch: 61   Avg_Loss: 0.41403   Acc: 517/625 (82.720%)\n",
      "Eval:  Avg_Loss: 0.41402   Acc: 169/209 (80.861%)\n",
      "Train Epoch: 62   Avg_Loss: 0.41484   Acc: 514/625 (82.240%)\n",
      "Eval:  Avg_Loss: 0.47776   Acc: 163/209 (77.990%)\n",
      "Train Epoch: 63   Avg_Loss: 0.42631   Acc: 519/625 (83.040%)\n",
      "Eval:  Avg_Loss: 0.41249   Acc: 169/209 (80.861%)\n",
      "Train Epoch: 64   Avg_Loss: 0.41252   Acc: 522/625 (83.520%)\n",
      "Eval:  Avg_Loss: 0.41092   Acc: 169/209 (80.861%)\n",
      "Train Epoch: 65   Avg_Loss: 0.41718   Acc: 518/625 (82.880%)\n",
      "Eval:  Avg_Loss: 0.41475   Acc: 169/209 (80.861%)\n",
      "Train Epoch: 66   Avg_Loss: 0.43027   Acc: 509/625 (81.440%)\n",
      "Eval:  Avg_Loss: 0.42544   Acc: 169/209 (80.861%)\n",
      "Train Epoch: 67   Avg_Loss: 0.44382   Acc: 514/625 (82.240%)\n",
      "Eval:  Avg_Loss: 0.43287   Acc: 166/209 (79.426%)\n",
      "Train Epoch: 68   Avg_Loss: 0.42298   Acc: 513/625 (82.080%)\n",
      "Eval:  Avg_Loss: 0.41195   Acc: 167/209 (79.904%)\n",
      "Train Epoch: 69   Avg_Loss: 0.42271   Acc: 509/625 (81.440%)\n",
      "Eval:  Avg_Loss: 0.42356   Acc: 165/209 (78.947%)\n",
      "Train Epoch: 70   Avg_Loss: 0.44344   Acc: 506/625 (80.960%)\n",
      "Eval:  Avg_Loss: 0.41667   Acc: 169/209 (80.861%)\n",
      "Train Epoch: 71   Avg_Loss: 0.42720   Acc: 519/625 (83.040%)\n",
      "Eval:  Avg_Loss: 0.41715   Acc: 166/209 (79.426%)\n",
      "Train Epoch: 72   Avg_Loss: 0.42015   Acc: 522/625 (83.520%)\n",
      "Eval:  Avg_Loss: 0.41020   Acc: 168/209 (80.383%)\n",
      "Train Epoch: 73   Avg_Loss: 0.41833   Acc: 522/625 (83.520%)\n",
      "Eval:  Avg_Loss: 0.47087   Acc: 165/209 (78.947%)\n",
      "Train Epoch: 74   Avg_Loss: 0.43406   Acc: 512/625 (81.920%)\n",
      "Eval:  Avg_Loss: 0.42979   Acc: 169/209 (80.861%)\n",
      "Train Epoch: 75   Avg_Loss: 0.43218   Acc: 506/625 (80.960%)\n",
      "Eval:  Avg_Loss: 0.43127   Acc: 167/209 (79.904%)\n",
      "Train Epoch: 76   Avg_Loss: 0.42148   Acc: 515/625 (82.400%)\n",
      "Eval:  Avg_Loss: 0.40937   Acc: 168/209 (80.383%)\n",
      "Train Epoch: 77   Avg_Loss: 0.42399   Acc: 516/625 (82.560%)\n",
      "Eval:  Avg_Loss: 0.41046   Acc: 168/209 (80.383%)\n",
      "Train Epoch: 78   Avg_Loss: 0.41455   Acc: 512/625 (81.920%)\n",
      "Eval:  Avg_Loss: 0.42153   Acc: 168/209 (80.383%)\n",
      "Train Epoch: 79   Avg_Loss: 0.41295   Acc: 518/625 (82.880%)\n",
      "Eval:  Avg_Loss: 0.43576   Acc: 167/209 (79.904%)\n",
      "Train Epoch: 80   Avg_Loss: 0.41504   Acc: 518/625 (82.880%)\n",
      "Eval:  Avg_Loss: 0.44057   Acc: 167/209 (79.904%)\n",
      "Train Epoch: 81   Avg_Loss: 0.42232   Acc: 515/625 (82.400%)\n",
      "Eval:  Avg_Loss: 0.43021   Acc: 167/209 (79.904%)\n",
      "Train Epoch: 82   Avg_Loss: 0.40841   Acc: 517/625 (82.720%)\n",
      "Eval:  Avg_Loss: 0.46210   Acc: 164/209 (78.469%)\n"
     ]
    },
    {
     "name": "stdout",
     "output_type": "stream",
     "text": [
      "Train Epoch: 83   Avg_Loss: 0.41148   Acc: 518/625 (82.880%)\n",
      "Eval:  Avg_Loss: 0.40867   Acc: 166/209 (79.426%)\n",
      "Train Epoch: 84   Avg_Loss: 0.42018   Acc: 514/625 (82.240%)\n",
      "Eval:  Avg_Loss: 0.42465   Acc: 165/209 (78.947%)\n",
      "Train Epoch: 85   Avg_Loss: 0.41590   Acc: 517/625 (82.720%)\n",
      "Eval:  Avg_Loss: 0.42027   Acc: 169/209 (80.861%)\n",
      "Train Epoch: 86   Avg_Loss: 0.40931   Acc: 520/625 (83.200%)\n",
      "Eval:  Avg_Loss: 0.41937   Acc: 167/209 (79.904%)\n",
      "Train Epoch: 87   Avg_Loss: 0.40935   Acc: 519/625 (83.040%)\n",
      "Eval:  Avg_Loss: 0.41238   Acc: 169/209 (80.861%)\n",
      "Train Epoch: 88   Avg_Loss: 0.41144   Acc: 521/625 (83.360%)\n",
      "Eval:  Avg_Loss: 0.41089   Acc: 170/209 (81.340%)\n",
      "Train Epoch: 89   Avg_Loss: 0.42134   Acc: 522/625 (83.520%)\n",
      "Eval:  Avg_Loss: 0.46025   Acc: 166/209 (79.426%)\n",
      "Train Epoch: 90   Avg_Loss: 0.42879   Acc: 516/625 (82.560%)\n",
      "Eval:  Avg_Loss: 0.47104   Acc: 164/209 (78.469%)\n",
      "Train Epoch: 91   Avg_Loss: 0.40918   Acc: 523/625 (83.680%)\n",
      "Eval:  Avg_Loss: 0.45866   Acc: 168/209 (80.383%)\n",
      "Train Epoch: 92   Avg_Loss: 0.40761   Acc: 521/625 (83.360%)\n",
      "Eval:  Avg_Loss: 0.41078   Acc: 167/209 (79.904%)\n",
      "Train Epoch: 93   Avg_Loss: 0.41058   Acc: 520/625 (83.200%)\n",
      "Eval:  Avg_Loss: 0.41096   Acc: 167/209 (79.904%)\n",
      "Train Epoch: 94   Avg_Loss: 0.40496   Acc: 524/625 (83.840%)\n",
      "Eval:  Avg_Loss: 0.40685   Acc: 169/209 (80.861%)\n",
      "Train Epoch: 95   Avg_Loss: 0.42434   Acc: 516/625 (82.560%)\n",
      "Eval:  Avg_Loss: 0.41316   Acc: 168/209 (80.383%)\n",
      "Train Epoch: 96   Avg_Loss: 0.41724   Acc: 518/625 (82.880%)\n",
      "Eval:  Avg_Loss: 0.42172   Acc: 171/209 (81.818%)\n",
      "Train Epoch: 97   Avg_Loss: 0.41273   Acc: 520/625 (83.200%)\n",
      "Eval:  Avg_Loss: 0.41266   Acc: 168/209 (80.383%)\n",
      "Train Epoch: 98   Avg_Loss: 0.41537   Acc: 520/625 (83.200%)\n",
      "Eval:  Avg_Loss: 0.41237   Acc: 167/209 (79.904%)\n",
      "Train Epoch: 99   Avg_Loss: 0.41527   Acc: 515/625 (82.400%)\n",
      "Eval:  Avg_Loss: 0.41451   Acc: 170/209 (81.340%)\n",
      "Train Epoch: 100   Avg_Loss: 0.40497   Acc: 513/625 (82.080%)\n",
      "Eval:  Avg_Loss: 0.41257   Acc: 167/209 (79.904%)\n",
      "Train Epoch: 101   Avg_Loss: 0.41263   Acc: 519/625 (83.040%)\n",
      "Eval:  Avg_Loss: 0.41530   Acc: 169/209 (80.861%)\n",
      "Train Epoch: 102   Avg_Loss: 0.41577   Acc: 520/625 (83.200%)\n",
      "Eval:  Avg_Loss: 0.43462   Acc: 167/209 (79.904%)\n",
      "Train Epoch: 103   Avg_Loss: 0.43140   Acc: 511/625 (81.760%)\n",
      "Eval:  Avg_Loss: 0.41086   Acc: 167/209 (79.904%)\n",
      "Train Epoch: 104   Avg_Loss: 0.41032   Acc: 520/625 (83.200%)\n",
      "Eval:  Avg_Loss: 0.41422   Acc: 166/209 (79.426%)\n",
      "Train Epoch: 105   Avg_Loss: 0.40400   Acc: 518/625 (82.880%)\n",
      "Eval:  Avg_Loss: 0.42187   Acc: 169/209 (80.861%)\n",
      "Train Epoch: 106   Avg_Loss: 0.40562   Acc: 519/625 (83.040%)\n",
      "Eval:  Avg_Loss: 0.41190   Acc: 167/209 (79.904%)\n",
      "Train Epoch: 107   Avg_Loss: 0.40598   Acc: 521/625 (83.360%)\n",
      "Eval:  Avg_Loss: 0.43449   Acc: 167/209 (79.904%)\n",
      "Train Epoch: 108   Avg_Loss: 0.40246   Acc: 520/625 (83.200%)\n",
      "Eval:  Avg_Loss: 0.40867   Acc: 167/209 (79.904%)\n",
      "Train Epoch: 109   Avg_Loss: 0.40450   Acc: 517/625 (82.720%)\n",
      "Eval:  Avg_Loss: 0.40656   Acc: 172/209 (82.297%)\n",
      "Train Epoch: 110   Avg_Loss: 0.40176   Acc: 520/625 (83.200%)\n",
      "Eval:  Avg_Loss: 0.41338   Acc: 170/209 (81.340%)\n",
      "Train Epoch: 111   Avg_Loss: 0.40530   Acc: 520/625 (83.200%)\n",
      "Eval:  Avg_Loss: 0.42198   Acc: 169/209 (80.861%)\n",
      "Train Epoch: 112   Avg_Loss: 0.41211   Acc: 513/625 (82.080%)\n",
      "Eval:  Avg_Loss: 0.45286   Acc: 168/209 (80.383%)\n",
      "Train Epoch: 113   Avg_Loss: 0.40649   Acc: 527/625 (84.320%)\n",
      "Eval:  Avg_Loss: 0.41170   Acc: 166/209 (79.426%)\n",
      "Train Epoch: 114   Avg_Loss: 0.40395   Acc: 518/625 (82.880%)\n",
      "Eval:  Avg_Loss: 0.41122   Acc: 171/209 (81.818%)\n",
      "Train Epoch: 115   Avg_Loss: 0.40095   Acc: 523/625 (83.680%)\n",
      "Eval:  Avg_Loss: 0.41877   Acc: 166/209 (79.426%)\n",
      "Train Epoch: 116   Avg_Loss: 0.40706   Acc: 519/625 (83.040%)\n",
      "Eval:  Avg_Loss: 0.41357   Acc: 169/209 (80.861%)\n",
      "Train Epoch: 117   Avg_Loss: 0.40503   Acc: 519/625 (83.040%)\n",
      "Eval:  Avg_Loss: 0.42731   Acc: 171/209 (81.818%)\n",
      "Train Epoch: 118   Avg_Loss: 0.40071   Acc: 521/625 (83.360%)\n",
      "Eval:  Avg_Loss: 0.41870   Acc: 170/209 (81.340%)\n",
      "Train Epoch: 119   Avg_Loss: 0.39964   Acc: 523/625 (83.680%)\n",
      "Eval:  Avg_Loss: 0.41062   Acc: 168/209 (80.383%)\n",
      "Train Epoch: 120   Avg_Loss: 0.40443   Acc: 517/625 (82.720%)\n",
      "Eval:  Avg_Loss: 0.46398   Acc: 165/209 (78.947%)\n",
      "Train Epoch: 121   Avg_Loss: 0.40186   Acc: 524/625 (83.840%)\n",
      "Eval:  Avg_Loss: 0.44025   Acc: 168/209 (80.383%)\n",
      "Train Epoch: 122   Avg_Loss: 0.40105   Acc: 519/625 (83.040%)\n",
      "Eval:  Avg_Loss: 0.44180   Acc: 168/209 (80.383%)\n",
      "Train Epoch: 123   Avg_Loss: 0.40121   Acc: 523/625 (83.680%)\n",
      "Eval:  Avg_Loss: 0.41190   Acc: 168/209 (80.383%)\n",
      "Train Epoch: 124   Avg_Loss: 0.39569   Acc: 523/625 (83.680%)\n",
      "Eval:  Avg_Loss: 0.45600   Acc: 167/209 (79.904%)\n",
      "Train Epoch: 125   Avg_Loss: 0.41867   Acc: 519/625 (83.040%)\n",
      "Eval:  Avg_Loss: 0.43540   Acc: 166/209 (79.426%)\n",
      "Train Epoch: 126   Avg_Loss: 0.42379   Acc: 508/625 (81.280%)\n",
      "Eval:  Avg_Loss: 0.41452   Acc: 168/209 (80.383%)\n",
      "Train Epoch: 127   Avg_Loss: 0.40448   Acc: 520/625 (83.200%)\n",
      "Eval:  Avg_Loss: 0.41950   Acc: 166/209 (79.426%)\n",
      "Train Epoch: 128   Avg_Loss: 0.39649   Acc: 523/625 (83.680%)\n",
      "Eval:  Avg_Loss: 0.43523   Acc: 168/209 (80.383%)\n",
      "Train Epoch: 129   Avg_Loss: 0.39303   Acc: 521/625 (83.360%)\n",
      "Eval:  Avg_Loss: 0.46880   Acc: 165/209 (78.947%)\n",
      "Train Epoch: 130   Avg_Loss: 0.41135   Acc: 517/625 (82.720%)\n",
      "Eval:  Avg_Loss: 0.42169   Acc: 168/209 (80.383%)\n",
      "Train Epoch: 131   Avg_Loss: 0.39882   Acc: 523/625 (83.680%)\n",
      "Eval:  Avg_Loss: 0.41164   Acc: 167/209 (79.904%)\n",
      "Train Epoch: 132   Avg_Loss: 0.39905   Acc: 526/625 (84.160%)\n",
      "Eval:  Avg_Loss: 0.41782   Acc: 169/209 (80.861%)\n",
      "Train Epoch: 133   Avg_Loss: 0.41336   Acc: 519/625 (83.040%)\n",
      "Eval:  Avg_Loss: 0.42376   Acc: 169/209 (80.861%)\n",
      "Train Epoch: 134   Avg_Loss: 0.39860   Acc: 518/625 (82.880%)\n",
      "Eval:  Avg_Loss: 0.41155   Acc: 167/209 (79.904%)\n",
      "Train Epoch: 135   Avg_Loss: 0.40096   Acc: 519/625 (83.040%)\n",
      "Eval:  Avg_Loss: 0.41286   Acc: 167/209 (79.904%)\n",
      "Train Epoch: 136   Avg_Loss: 0.43019   Acc: 512/625 (81.920%)\n",
      "Eval:  Avg_Loss: 0.41979   Acc: 167/209 (79.904%)\n",
      "Train Epoch: 137   Avg_Loss: 0.40768   Acc: 514/625 (82.240%)\n",
      "Eval:  Avg_Loss: 0.44344   Acc: 167/209 (79.904%)\n",
      "Train Epoch: 138   Avg_Loss: 0.39684   Acc: 523/625 (83.680%)\n",
      "Eval:  Avg_Loss: 0.42137   Acc: 169/209 (80.861%)\n",
      "Train Epoch: 139   Avg_Loss: 0.39484   Acc: 520/625 (83.200%)\n",
      "Eval:  Avg_Loss: 0.48663   Acc: 164/209 (78.469%)\n",
      "Train Epoch: 140   Avg_Loss: 0.41099   Acc: 516/625 (82.560%)\n",
      "Eval:  Avg_Loss: 0.46940   Acc: 166/209 (79.426%)\n",
      "Train Epoch: 141   Avg_Loss: 0.40048   Acc: 524/625 (83.840%)\n",
      "Eval:  Avg_Loss: 0.44512   Acc: 166/209 (79.426%)\n",
      "Train Epoch: 142   Avg_Loss: 0.39665   Acc: 522/625 (83.520%)\n",
      "Eval:  Avg_Loss: 0.45115   Acc: 166/209 (79.426%)\n",
      "Train Epoch: 143   Avg_Loss: 0.40207   Acc: 523/625 (83.680%)\n",
      "Eval:  Avg_Loss: 0.42206   Acc: 170/209 (81.340%)\n",
      "Train Epoch: 144   Avg_Loss: 0.39365   Acc: 515/625 (82.400%)\n",
      "Eval:  Avg_Loss: 0.42773   Acc: 168/209 (80.383%)\n",
      "Train Epoch: 145   Avg_Loss: 0.39319   Acc: 522/625 (83.520%)\n",
      "Eval:  Avg_Loss: 0.41886   Acc: 169/209 (80.861%)\n",
      "Train Epoch: 146   Avg_Loss: 0.40162   Acc: 525/625 (84.000%)\n",
      "Eval:  Avg_Loss: 0.41627   Acc: 169/209 (80.861%)\n",
      "Train Epoch: 147   Avg_Loss: 0.40841   Acc: 517/625 (82.720%)\n",
      "Eval:  Avg_Loss: 0.42842   Acc: 168/209 (80.383%)\n",
      "Train Epoch: 148   Avg_Loss: 0.38721   Acc: 527/625 (84.320%)\n",
      "Eval:  Avg_Loss: 0.42340   Acc: 170/209 (81.340%)\n",
      "Train Epoch: 149   Avg_Loss: 0.38888   Acc: 521/625 (83.360%)\n",
      "Eval:  Avg_Loss: 0.42096   Acc: 169/209 (80.861%)\n",
      "Train Epoch: 150   Avg_Loss: 0.39026   Acc: 521/625 (83.360%)\n",
      "Eval:  Avg_Loss: 0.43856   Acc: 168/209 (80.383%)\n",
      "Train Epoch: 151   Avg_Loss: 0.38742   Acc: 518/625 (82.880%)\n",
      "Eval:  Avg_Loss: 0.41265   Acc: 170/209 (81.340%)\n",
      "Train Epoch: 152   Avg_Loss: 0.39843   Acc: 516/625 (82.560%)\n",
      "Eval:  Avg_Loss: 0.42241   Acc: 168/209 (80.383%)\n",
      "Train Epoch: 153   Avg_Loss: 0.39401   Acc: 525/625 (84.000%)\n",
      "Eval:  Avg_Loss: 0.41839   Acc: 168/209 (80.383%)\n",
      "Train Epoch: 154   Avg_Loss: 0.39047   Acc: 524/625 (83.840%)\n",
      "Eval:  Avg_Loss: 0.45096   Acc: 165/209 (78.947%)\n",
      "Train Epoch: 155   Avg_Loss: 0.38974   Acc: 522/625 (83.520%)\n",
      "Eval:  Avg_Loss: 0.43738   Acc: 169/209 (80.861%)\n",
      "Train Epoch: 156   Avg_Loss: 0.39376   Acc: 518/625 (82.880%)\n",
      "Eval:  Avg_Loss: 0.41974   Acc: 169/209 (80.861%)\n",
      "Train Epoch: 157   Avg_Loss: 0.38801   Acc: 522/625 (83.520%)\n",
      "Eval:  Avg_Loss: 0.42330   Acc: 169/209 (80.861%)\n",
      "Train Epoch: 158   Avg_Loss: 0.39237   Acc: 518/625 (82.880%)\n",
      "Eval:  Avg_Loss: 0.41901   Acc: 169/209 (80.861%)\n",
      "Train Epoch: 159   Avg_Loss: 0.38938   Acc: 523/625 (83.680%)\n",
      "Eval:  Avg_Loss: 0.44088   Acc: 168/209 (80.383%)\n",
      "Train Epoch: 160   Avg_Loss: 0.39211   Acc: 520/625 (83.200%)\n",
      "Eval:  Avg_Loss: 0.41723   Acc: 167/209 (79.904%)\n",
      "Train Epoch: 161   Avg_Loss: 0.40062   Acc: 520/625 (83.200%)\n",
      "Eval:  Avg_Loss: 0.41738   Acc: 169/209 (80.861%)\n",
      "Train Epoch: 162   Avg_Loss: 0.38582   Acc: 524/625 (83.840%)\n"
     ]
    },
    {
     "name": "stdout",
     "output_type": "stream",
     "text": [
      "Eval:  Avg_Loss: 0.43812   Acc: 168/209 (80.383%)\n",
      "Train Epoch: 163   Avg_Loss: 0.40171   Acc: 520/625 (83.200%)\n",
      "Eval:  Avg_Loss: 0.52270   Acc: 162/209 (77.512%)\n",
      "Train Epoch: 164   Avg_Loss: 0.40897   Acc: 523/625 (83.680%)\n",
      "Eval:  Avg_Loss: 0.45941   Acc: 167/209 (79.904%)\n",
      "Train Epoch: 165   Avg_Loss: 0.39859   Acc: 524/625 (83.840%)\n",
      "Eval:  Avg_Loss: 0.45862   Acc: 167/209 (79.904%)\n",
      "Train Epoch: 166   Avg_Loss: 0.39315   Acc: 521/625 (83.360%)\n",
      "Eval:  Avg_Loss: 0.43428   Acc: 172/209 (82.297%)\n",
      "Train Epoch: 167   Avg_Loss: 0.38402   Acc: 523/625 (83.680%)\n",
      "Eval:  Avg_Loss: 0.44368   Acc: 167/209 (79.904%)\n",
      "Train Epoch: 168   Avg_Loss: 0.39011   Acc: 521/625 (83.360%)\n",
      "Eval:  Avg_Loss: 0.42380   Acc: 167/209 (79.904%)\n",
      "Train Epoch: 169   Avg_Loss: 0.38150   Acc: 526/625 (84.160%)\n",
      "Eval:  Avg_Loss: 0.44601   Acc: 170/209 (81.340%)\n",
      "Train Epoch: 170   Avg_Loss: 0.38701   Acc: 525/625 (84.000%)\n",
      "Eval:  Avg_Loss: 0.46203   Acc: 164/209 (78.469%)\n",
      "Train Epoch: 171   Avg_Loss: 0.38898   Acc: 525/625 (84.000%)\n",
      "Eval:  Avg_Loss: 0.46743   Acc: 165/209 (78.947%)\n",
      "Train Epoch: 172   Avg_Loss: 0.39107   Acc: 526/625 (84.160%)\n",
      "Eval:  Avg_Loss: 0.43123   Acc: 169/209 (80.861%)\n",
      "Train Epoch: 173   Avg_Loss: 0.38955   Acc: 526/625 (84.160%)\n",
      "Eval:  Avg_Loss: 0.43894   Acc: 167/209 (79.904%)\n",
      "Train Epoch: 174   Avg_Loss: 0.38783   Acc: 527/625 (84.320%)\n",
      "Eval:  Avg_Loss: 0.42404   Acc: 166/209 (79.426%)\n",
      "Train Epoch: 175   Avg_Loss: 0.38017   Acc: 526/625 (84.160%)\n",
      "Eval:  Avg_Loss: 0.42332   Acc: 167/209 (79.904%)\n",
      "Train Epoch: 176   Avg_Loss: 0.38717   Acc: 526/625 (84.160%)\n",
      "Eval:  Avg_Loss: 0.42375   Acc: 168/209 (80.383%)\n",
      "Train Epoch: 177   Avg_Loss: 0.38566   Acc: 525/625 (84.000%)\n",
      "Eval:  Avg_Loss: 0.41731   Acc: 171/209 (81.818%)\n",
      "Train Epoch: 178   Avg_Loss: 0.38929   Acc: 513/625 (82.080%)\n",
      "Eval:  Avg_Loss: 0.42705   Acc: 168/209 (80.383%)\n",
      "Train Epoch: 179   Avg_Loss: 0.37985   Acc: 525/625 (84.000%)\n",
      "Eval:  Avg_Loss: 0.42952   Acc: 168/209 (80.383%)\n",
      "Train Epoch: 180   Avg_Loss: 0.38233   Acc: 519/625 (83.040%)\n",
      "Eval:  Avg_Loss: 0.44429   Acc: 168/209 (80.383%)\n",
      "Train Epoch: 181   Avg_Loss: 0.38361   Acc: 525/625 (84.000%)\n",
      "Eval:  Avg_Loss: 0.44829   Acc: 167/209 (79.904%)\n",
      "Train Epoch: 182   Avg_Loss: 0.38300   Acc: 529/625 (84.640%)\n",
      "Eval:  Avg_Loss: 0.42735   Acc: 170/209 (81.340%)\n",
      "Train Epoch: 183   Avg_Loss: 0.38529   Acc: 525/625 (84.000%)\n",
      "Eval:  Avg_Loss: 0.42180   Acc: 167/209 (79.904%)\n",
      "Train Epoch: 184   Avg_Loss: 0.37885   Acc: 530/625 (84.800%)\n",
      "Eval:  Avg_Loss: 0.43349   Acc: 167/209 (79.904%)\n",
      "Train Epoch: 185   Avg_Loss: 0.37960   Acc: 523/625 (83.680%)\n",
      "Eval:  Avg_Loss: 0.42061   Acc: 166/209 (79.426%)\n",
      "Train Epoch: 186   Avg_Loss: 0.38467   Acc: 528/625 (84.480%)\n",
      "Eval:  Avg_Loss: 0.42901   Acc: 168/209 (80.383%)\n",
      "Train Epoch: 187   Avg_Loss: 0.38540   Acc: 518/625 (82.880%)\n",
      "Eval:  Avg_Loss: 0.42522   Acc: 169/209 (80.861%)\n",
      "Train Epoch: 188   Avg_Loss: 0.38360   Acc: 526/625 (84.160%)\n",
      "Eval:  Avg_Loss: 0.43741   Acc: 172/209 (82.297%)\n",
      "Train Epoch: 189   Avg_Loss: 0.39864   Acc: 515/625 (82.400%)\n",
      "Eval:  Avg_Loss: 0.44952   Acc: 171/209 (81.818%)\n",
      "Train Epoch: 190   Avg_Loss: 0.39328   Acc: 517/625 (82.720%)\n",
      "Eval:  Avg_Loss: 0.43874   Acc: 167/209 (79.904%)\n",
      "Train Epoch: 191   Avg_Loss: 0.38347   Acc: 530/625 (84.800%)\n",
      "Eval:  Avg_Loss: 0.43211   Acc: 167/209 (79.904%)\n",
      "Train Epoch: 192   Avg_Loss: 0.37792   Acc: 523/625 (83.680%)\n",
      "Eval:  Avg_Loss: 0.42898   Acc: 167/209 (79.904%)\n",
      "Train Epoch: 193   Avg_Loss: 0.37557   Acc: 525/625 (84.000%)\n",
      "Eval:  Avg_Loss: 0.45415   Acc: 165/209 (78.947%)\n",
      "Train Epoch: 194   Avg_Loss: 0.38138   Acc: 522/625 (83.520%)\n",
      "Eval:  Avg_Loss: 0.46520   Acc: 165/209 (78.947%)\n",
      "Train Epoch: 195   Avg_Loss: 0.39719   Acc: 520/625 (83.200%)\n",
      "Eval:  Avg_Loss: 0.43128   Acc: 170/209 (81.340%)\n",
      "Train Epoch: 196   Avg_Loss: 0.38709   Acc: 521/625 (83.360%)\n",
      "Eval:  Avg_Loss: 0.45233   Acc: 167/209 (79.904%)\n",
      "Train Epoch: 197   Avg_Loss: 0.37591   Acc: 527/625 (84.320%)\n",
      "Eval:  Avg_Loss: 0.42264   Acc: 167/209 (79.904%)\n",
      "Train Epoch: 198   Avg_Loss: 0.37403   Acc: 529/625 (84.640%)\n",
      "Eval:  Avg_Loss: 0.44590   Acc: 169/209 (80.861%)\n",
      "Train Epoch: 199   Avg_Loss: 0.38487   Acc: 525/625 (84.000%)\n",
      "Eval:  Avg_Loss: 0.43440   Acc: 172/209 (82.297%)\n",
      "Train Epoch: 200   Avg_Loss: 0.38618   Acc: 525/625 (84.000%)\n",
      "Eval:  Avg_Loss: 0.46222   Acc: 165/209 (78.947%)\n",
      "\n",
      "\n",
      "\n",
      "Optimization ended.\n",
      "\n"
     ]
    }
   ],
   "source": [
    "# nombre d'epochs\n",
    "numEpochs = 200\n",
    "\n",
    "# Frequence de sauvegarde\n",
    "checkpoint_freq = 10\n",
    "\n",
    "# Repertoire pour la sauvegarde des données\n",
    "path = './'\n",
    "\n",
    "# Accumulateurs des coûts moyens obtenu par epoch\n",
    "train_losses = []\n",
    "val_losses = []\n",
    "\n",
    "# Accumulateurs des performances par epoch\n",
    "train_accuracies = []\n",
    "val_accuracies = []\n",
    "\n",
    "# Itérer sur le nombre d'epochs\n",
    "for epoch in range(1, numEpochs + 1):\n",
    "    \n",
    "    # entraîner le modèle avec le dataset de train\n",
    "    train_loss, train_acc = train(epoch, neural_net, train_loader, optimizer)\n",
    "    \n",
    "    # évaluer le modèle avec le dataset de validation\n",
    "    val_loss, val_acc = eval(neural_net, val_loader) \n",
    "    \n",
    "    # Sauvegarde des coûts obtenus\n",
    "    train_losses.append(train_loss)    \n",
    "    val_losses.append(val_loss)\n",
    "    \n",
    "    # Sauvegarde des performamces\n",
    "    train_accuracies.append(train_acc)    \n",
    "    val_accuracies.append(val_acc)\n",
    "    \n",
    "    # Checkpoint\n",
    "    if epoch % checkpoint_freq ==0:\n",
    "        save_model(epoch, neural_net, path='./')\n",
    "\n",
    "# Sauvegarde du modèle à la fin de l'entraînement.\n",
    "save_model(epoch, neural_net, path='./')\n",
    "    \n",
    "print(\"\\n\\n\\nOptimization ended.\\n\")    \n"
   ]
  },
  {
   "cell_type": "markdown",
   "metadata": {
    "colab_type": "text",
    "id": "qPpVsyG3rbYI"
   },
   "source": [
    "   "
   ]
  },
  {
   "cell_type": "markdown",
   "metadata": {
    "colab_type": "text",
    "id": "86OZRLrjavmd"
   },
   "source": [
    "### f) Execution du réseau de neurones avec des données réelles"
   ]
  },
  {
   "cell_type": "code",
   "execution_count": 31,
   "metadata": {
    "colab": {
     "autoexec": {
      "startup": false,
      "wait_interval": 0
     }
    },
    "colab_type": "code",
    "collapsed": true,
    "id": "mklvQruYavme"
   },
   "outputs": [],
   "source": [
    "# activation du mode eval\n",
    "neural_net = neural_net.eval()"
   ]
  },
  {
   "cell_type": "code",
   "execution_count": 32,
   "metadata": {
    "colab": {
     "autoexec": {
      "startup": false,
      "wait_interval": 0
     }
    },
    "colab_type": "code",
    "collapsed": true,
    "id": "s7dAO7oRavmh"
   },
   "outputs": [],
   "source": [
    "# Sélection des 5 premières données du dataset de validation\n",
    "data, target = val_dataset[0:5]"
   ]
  },
  {
   "cell_type": "code",
   "execution_count": 33,
   "metadata": {
    "colab": {
     "autoexec": {
      "startup": false,
      "wait_interval": 0
     }
    },
    "colab_type": "code",
    "collapsed": true,
    "id": "TxHhci3eavmk"
   },
   "outputs": [],
   "source": [
    "# Encapusaulation des données dans la classe Variable\n",
    "data = Variable(data)"
   ]
  },
  {
   "cell_type": "code",
   "execution_count": 34,
   "metadata": {
    "colab": {
     "autoexec": {
      "startup": false,
      "wait_interval": 0
     }
    },
    "colab_type": "code",
    "collapsed": true,
    "id": "exe3uk02avmo"
   },
   "outputs": [],
   "source": [
    "# Execution du réseau de neurones\n",
    "output = neural_net(data)   # neural_net.forward(data)"
   ]
  },
  {
   "cell_type": "code",
   "execution_count": 35,
   "metadata": {
    "colab": {
     "autoexec": {
      "startup": false,
      "wait_interval": 0
     }
    },
    "colab_type": "code",
    "collapsed": true,
    "id": "K-2QB-86avmq"
   },
   "outputs": [],
   "source": [
    "# Tranformation des resultat en probabilités en utilisant la fonction SOFTMAX\n",
    "output_proba = F.softmax(output, dim=1)"
   ]
  },
  {
   "cell_type": "code",
   "execution_count": 36,
   "metadata": {
    "colab": {
     "autoexec": {
      "startup": false,
      "wait_interval": 0
     }
    },
    "colab_type": "code",
    "id": "JQQDhQXvavms"
   },
   "outputs": [
    {
     "name": "stdout",
     "output_type": "stream",
     "text": [
      "Variable containing:\n",
      " 0.7555  0.2445\n",
      " 0.5627  0.4373\n",
      " 0.5324  0.4676\n",
      " 0.6180  0.3820\n",
      " 0.5906  0.4094\n",
      "[torch.FloatTensor of size 5x2]\n",
      "\n"
     ]
    }
   ],
   "source": [
    "# Affichage des probabilités\n",
    "print(output_proba)"
   ]
  },
  {
   "cell_type": "code",
   "execution_count": 37,
   "metadata": {
    "colab": {
     "autoexec": {
      "startup": false,
      "wait_interval": 0
     }
    },
    "colab_type": "code",
    "id": "ygTlsP0hrbYb"
   },
   "outputs": [
    {
     "name": "stdout",
     "output_type": "stream",
     "text": [
      "Variable containing:\n",
      " 0\n",
      " 0\n",
      " 0\n",
      " 0\n",
      " 0\n",
      "[torch.LongTensor of size 5]\n",
      "\n"
     ]
    }
   ],
   "source": [
    "# Affichage des prédictions (classe ayant la plus grande probabilités)\n",
    "_, prediction = torch.max(output_proba, dim=1)\n",
    "print(prediction)"
   ]
  },
  {
   "cell_type": "code",
   "execution_count": 38,
   "metadata": {
    "colab": {
     "autoexec": {
      "startup": false,
      "wait_interval": 0
     }
    },
    "colab_type": "code",
    "id": "wTzKHMuorbYd"
   },
   "outputs": [
    {
     "name": "stdout",
     "output_type": "stream",
     "text": [
      "\n",
      " 0\n",
      " 0\n",
      " 1\n",
      " 0\n",
      " 1\n",
      "[torch.LongTensor of size 5]\n",
      "\n"
     ]
    }
   ],
   "source": [
    "# Affichage de la vrai target\n",
    "print(target)"
   ]
  },
  {
   "cell_type": "markdown",
   "metadata": {
    "colab_type": "text",
    "id": "_5suG-0HrbYf"
   },
   "source": [
    "### Questions: \n",
    "\n",
    "<b> Que constatez vous ? </b> <br/>"
   ]
  },
  {
   "cell_type": "markdown",
   "metadata": {
    "colab_type": "text",
    "id": "6rKx_K6DrbYg"
   },
   "source": [
    "   "
   ]
  },
  {
   "cell_type": "markdown",
   "metadata": {
    "colab_type": "text",
    "id": "lYh_jBMurbYk"
   },
   "source": [
    "  "
   ]
  },
  {
   "cell_type": "markdown",
   "metadata": {
    "colab_type": "text",
    "id": "V11J3Jihavmy"
   },
   "source": [
    "### g) Visualiser la courbe d'apprentissage"
   ]
  },
  {
   "cell_type": "markdown",
   "metadata": {
    "colab_type": "text",
    "id": "j9_9C_tXavmz"
   },
   "source": [
    "La <b>visualisation de la courbe d'apprentissage</b> permet de détecter d'éventuels problèmes survenus lors de l'apprentissage, par exemple, l'overfitting (sur-apprentissage)."
   ]
  },
  {
   "cell_type": "code",
   "execution_count": 43,
   "metadata": {
    "colab": {
     "autoexec": {
      "startup": false,
      "wait_interval": 0
     }
    },
    "colab_type": "code",
    "id": "iNcbpl0tavm0"
   },
   "outputs": [
    {
     "data": {
      "image/png": "[encoded data removed]",
      "text/plain": [
       "<matplotlib.figure.Figure at 0x7f498ccb7da0>"
      ]
     },
     "metadata": {},
     "output_type": "display_data"
    }
   ],
   "source": [
    "import matplotlib.pyplot as plt\n",
    "%matplotlib inline\n",
    "\n",
    "x = list(range(len(train_losses)))\n",
    "\n",
    "ax = plt.subplot(111)\n",
    "plt.plot(x, train_losses, 'r', label=\"Train\")\n",
    "plt.plot(x, val_losses, 'g', label=\"Validation\")\n",
    "plt.title('Loss')\n",
    "leg = plt.legend(loc='best', ncol=2, mode=\"expand\", shadow=True, fancybox=True)\n",
    "leg.get_frame().set_alpha(0.99)"
   ]
  },
  {
   "cell_type": "code",
   "execution_count": 44,
   "metadata": {
    "colab": {
     "autoexec": {
      "startup": false,
      "wait_interval": 0
     }
    },
    "colab_type": "code",
    "id": "g-VGQ2pMavm4"
   },
   "outputs": [
    {
     "data": {
      "image/png": "[encoded data removed]",
      "text/plain": [
       "<matplotlib.figure.Figure at 0x7f498ccb7be0>"
      ]
     },
     "metadata": {},
     "output_type": "display_data"
    }
   ],
   "source": [
    "x = list(range(len(train_accuracies)))\n",
    "\n",
    "ax = plt.subplot(111)\n",
    "plt.plot(x, train_accuracies, 'r', label=\"Train\")\n",
    "plt.plot(x, val_accuracies, 'g', label=\"Validation\")\n",
    "plt.title('Accuracy')\n",
    "leg = plt.legend(loc='best', ncol=2, mode=\"expand\", shadow=False, fancybox=False)\n",
    "leg.get_frame().set_alpha(0.99)"
   ]
  },
  {
   "cell_type": "markdown",
   "metadata": {
    "colab_type": "text",
    "id": "nI0R1srzrbYx"
   },
   "source": [
    "### Questions: \n",
    "\n",
    "<b> a) Que pouvez-vous dire de ces courbes ?  <br/>\n",
    "Illustrent-ils un régime de sur-apprentissage? Si non, pourquoi? Si oui, que pouvez-vous faire pour y remédier?</b> <br/>\n",
    "<b> b) Que pouvez-vous faire pour améliorer la performance du réseau de neurones sur des données de validation? </b><br/>"
   ]
  },
  {
   "cell_type": "code",
   "execution_count": 45,
   "metadata": {
    "collapsed": true
   },
   "outputs": [],
   "source": [
    "neural_net = load_model(130, neural_net, path='./')"
   ]
  },
  {
   "cell_type": "markdown",
   "metadata": {
    "colab_type": "text",
    "id": "XK_eUsq3avm8"
   },
   "source": [
    "## 5) Évaluer la performance du réseau appris sur des données de Test"
   ]
  },
  {
   "cell_type": "markdown",
   "metadata": {
    "colab_type": "text",
    "id": "4UREO5elavm8"
   },
   "source": [
    "Nous pouvons finalement évaluer notre modèle apppris sur notre dataset de Test."
   ]
  },
  {
   "cell_type": "code",
   "execution_count": 46,
   "metadata": {
    "colab": {
     "autoexec": {
      "startup": false,
      "wait_interval": 0
     }
    },
    "colab_type": "code",
    "id": "pPWvDM-qavm8"
   },
   "outputs": [
    {
     "name": "stdout",
     "output_type": "stream",
     "text": [
      "Eval:  Avg_Loss: 0.48241   Acc: 170/209 (81.340%)\n"
     ]
    }
   ],
   "source": [
    "test_loss, test_acc = eval(neural_net, test_loader)"
   ]
  },
  {
   "cell_type": "markdown",
   "metadata": {
    "colab_type": "text",
    "id": "OWy9_X_2rbY4"
   },
   "source": [
    "### Questions: \n",
    "\n",
    "<b> a) Comparer les résultats de validation et de test ?  Le réseau appris généralise t'il aussi bien qu'espéré ? <br/>\n",
    "b) Pensez-vous qu'il est possible d'utiliser un MLP pour d'autres types de données comme des images par exemple? </b> <br/>"
   ]
  },
  {
   "cell_type": "code",
   "execution_count": 0,
   "metadata": {
    "colab": {
     "autoexec": {
      "startup": false,
      "wait_interval": 0
     }
    },
    "colab_type": "code",
    "collapsed": true,
    "id": "-FGMHDO1avm-"
   },
   "outputs": [],
   "source": []
  },
  {
   "cell_type": "code",
   "execution_count": 0,
   "metadata": {
    "colab": {
     "autoexec": {
      "startup": false,
      "wait_interval": 0
     }
    },
    "colab_type": "code",
    "collapsed": true,
    "id": "KIjdnH4Bavm_"
   },
   "outputs": [],
   "source": []
  }
 ],
 "metadata": {
  "colab": {
   "collapsed_sections": [
    "0hcZaIKtavmH",
    "P0ksgXqwavmK",
    "LLXjNiDTavmK",
    "K6gjERhgavmL",
    "nsQtU9ylavmL",
    "fMUyZNxdavmW",
    "ve8sOocWavma",
    "86OZRLrjavmd",
    "V11J3Jihavmy"
   ],
   "default_view": {},
   "name": "AFT-Hiver18TutorialMLP.ipynb",
   "provenance": [],
   "version": "0.3.2",
   "views": {}
  },
  "kernelspec": {
   "display_name": "Python 3",
   "language": "python",
   "name": "python3"
  },
  "language_info": {
   "codemirror_mode": {
    "name": "ipython",
    "version": 3
   },
   "file_extension": ".py",
   "mimetype": "text/x-python",
   "name": "python",
   "nbconvert_exporter": "python",
   "pygments_lexer": "ipython3",
   "version": "3.6.2"
  }
 },
 "nbformat": 4,
 "nbformat_minor": 1
}
